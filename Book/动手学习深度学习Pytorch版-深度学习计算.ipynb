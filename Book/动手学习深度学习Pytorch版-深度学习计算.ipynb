{
 "cells": [
  {
   "cell_type": "code",
   "execution_count": 1,
   "id": "d0aaf190",
   "metadata": {
    "ExecuteTime": {
     "end_time": "2021-12-04T07:47:32.137638Z",
     "start_time": "2021-12-04T07:47:27.981141Z"
    }
   },
   "outputs": [],
   "source": [
    "%matplotlib inline\n",
    "import torch\n",
    "import torch.nn as nn\n",
    "import torch.optim as optim\n",
    "from IPython import display\n",
    "from matplotlib import pyplot as plt\n",
    "import numpy as np\n",
    "import random\n",
    "import torch.utils.data as Data\n",
    "from torch.nn import init\n",
    "from collections import OrderedDict\n",
    "import pandas as pd\n",
    "from d2l import torch as d2l"
   ]
  },
  {
   "cell_type": "code",
   "execution_count": null,
   "id": "499b7106",
   "metadata": {
    "ExecuteTime": {
     "end_time": "2021-12-01T08:01:24.727242Z",
     "start_time": "2021-12-01T08:01:24.665403Z"
    }
   },
   "outputs": [],
   "source": []
  },
  {
   "cell_type": "markdown",
   "id": "fa1bbb99",
   "metadata": {},
   "source": [
    "# 模型构造"
   ]
  },
  {
   "cell_type": "markdown",
   "id": "e7739062",
   "metadata": {},
   "source": [
    "## 继承Module来构造模型"
   ]
  },
  {
   "cell_type": "code",
   "execution_count": 2,
   "id": "42a25b13",
   "metadata": {
    "ExecuteTime": {
     "end_time": "2021-12-02T01:38:59.315526Z",
     "start_time": "2021-12-02T01:38:59.300565Z"
    }
   },
   "outputs": [],
   "source": [
    "class MLP(nn.Module):\n",
    "    #声明带有模型参数的层\n",
    "    def __init__(self, **kwargs):\n",
    "        # 调用MLP父类Module的构造函数来进行必要的初始化。这样在构造实例时还可以指定其他函数\n",
    "        super(MLP, self).__init__(**kwargs)\n",
    "        self.hidden = nn.Linear(784, 256)\n",
    "        self.act = nn.ReLU()\n",
    "        self.output = nn.Linear(256,10)\n",
    "    \n",
    "    def forward(self, x):\n",
    "        a = self.act(self.hidden(x))\n",
    "        return self.output(a)"
   ]
  },
  {
   "cell_type": "code",
   "execution_count": 3,
   "id": "22f83434",
   "metadata": {
    "ExecuteTime": {
     "end_time": "2021-12-02T01:38:59.502027Z",
     "start_time": "2021-12-02T01:38:59.317521Z"
    }
   },
   "outputs": [
    {
     "name": "stdout",
     "output_type": "stream",
     "text": [
      "MLP(\n",
      "  (hidden): Linear(in_features=784, out_features=256, bias=True)\n",
      "  (act): ReLU()\n",
      "  (output): Linear(in_features=256, out_features=10, bias=True)\n",
      ")\n"
     ]
    },
    {
     "data": {
      "text/plain": [
       "tensor([[ 0.3396,  0.3062, -0.1798,  0.0784, -0.0508,  0.0865,  0.1480, -0.0902,\n",
       "          0.0463, -0.0685],\n",
       "        [ 0.4098,  0.3183, -0.1443,  0.2088, -0.1780,  0.1172,  0.1159, -0.0100,\n",
       "          0.0499, -0.0294]], grad_fn=<AddmmBackward>)"
      ]
     },
     "execution_count": 3,
     "metadata": {},
     "output_type": "execute_result"
    }
   ],
   "source": [
    "X = torch.rand(2, 784)\n",
    "net = MLP()\n",
    "print(net)\n",
    "net(X)"
   ]
  },
  {
   "cell_type": "markdown",
   "id": "3dbb829f",
   "metadata": {},
   "source": [
    "## Module的子类"
   ]
  },
  {
   "cell_type": "markdown",
   "id": "1d46dcde",
   "metadata": {},
   "source": [
    "### Sequential类\n",
    "下面我们实现一个与Sequential类有相同功能的MySequential类。这或许可以帮助读者更加清晰地理解Sequential类的工作机制。"
   ]
  },
  {
   "cell_type": "code",
   "execution_count": 4,
   "id": "b3c508be",
   "metadata": {
    "ExecuteTime": {
     "end_time": "2021-12-02T01:38:59.517984Z",
     "start_time": "2021-12-02T01:38:59.503024Z"
    }
   },
   "outputs": [],
   "source": [
    "class MySequential(nn.Module):\n",
    "    from collections import OrderedDict\n",
    "    def __init__(self, *args):\n",
    "        super(MySequential, self).__init__()\n",
    "        if len(args) == 1 and isinstance(args[0], OrderedDict):\n",
    "            # 如果传入的是一个OrderedDict\n",
    "            for key, module in args[0].items():\n",
    "                self.add_module(key, module)\n",
    "        else:\n",
    "            for idx, module in enumerate(args):\n",
    "                self.add_module(str(idx), module)\n",
    "    \n",
    "    def forward(self, input):\n",
    "        # self._modules返回一个 OrderedDict，保证会按照成员添加时的顺序遍历成员\n",
    "        for module in self._modules.values():\n",
    "            input = module(input)\n",
    "        return input\n",
    "        "
   ]
  },
  {
   "cell_type": "code",
   "execution_count": 5,
   "id": "dad535d2",
   "metadata": {
    "ExecuteTime": {
     "end_time": "2021-12-02T01:38:59.532945Z",
     "start_time": "2021-12-02T01:38:59.518982Z"
    }
   },
   "outputs": [
    {
     "name": "stdout",
     "output_type": "stream",
     "text": [
      "MySequential(\n",
      "  (0): Linear(in_features=784, out_features=256, bias=True)\n",
      "  (1): ReLU()\n",
      "  (2): Linear(in_features=256, out_features=10, bias=True)\n",
      ")\n"
     ]
    },
    {
     "data": {
      "text/plain": [
       "tensor([[-0.1304, -0.1117, -0.0094, -0.0383,  0.2676, -0.0940,  0.2368, -0.1800,\n",
       "          0.1204,  0.0252],\n",
       "        [-0.1715, -0.1236,  0.0498,  0.0687,  0.2851,  0.0249,  0.1377, -0.3202,\n",
       "          0.1323,  0.1335]], grad_fn=<AddmmBackward>)"
      ]
     },
     "execution_count": 5,
     "metadata": {},
     "output_type": "execute_result"
    }
   ],
   "source": [
    "net = MySequential(\n",
    "            nn.Linear(784, 256),\n",
    "            nn.ReLU(),\n",
    "            nn.Linear(256, 10)\n",
    "        )\n",
    "print(net)\n",
    "net(X)"
   ]
  },
  {
   "cell_type": "markdown",
   "id": "5e333de2",
   "metadata": {},
   "source": [
    "### ModuleList类\n",
    "ModuleList接收一个子模块的列表作为输入，然后也可以类似List那样进行append和extend操作"
   ]
  },
  {
   "cell_type": "code",
   "execution_count": 6,
   "id": "c75a035c",
   "metadata": {
    "ExecuteTime": {
     "end_time": "2021-12-02T01:38:59.548901Z",
     "start_time": "2021-12-02T01:38:59.533941Z"
    }
   },
   "outputs": [
    {
     "name": "stdout",
     "output_type": "stream",
     "text": [
      "Linear(in_features=256, out_features=10, bias=True)\n",
      "ModuleList(\n",
      "  (0): Linear(in_features=784, out_features=256, bias=True)\n",
      "  (1): ReLU()\n",
      "  (2): Linear(in_features=256, out_features=10, bias=True)\n",
      ")\n"
     ]
    }
   ],
   "source": [
    "net = nn.ModuleList([nn.Linear(784,256), nn.ReLU()])\n",
    "net.append(nn.Linear(256, 10))\n",
    "print(net[-1])\n",
    "print(net)\n",
    "# net(torch.zeros(1, 784)) # 会报NotImplementedError"
   ]
  },
  {
   "cell_type": "code",
   "execution_count": 7,
   "id": "c508bea2",
   "metadata": {
    "ExecuteTime": {
     "end_time": "2021-12-02T01:38:59.564858Z",
     "start_time": "2021-12-02T01:38:59.549899Z"
    }
   },
   "outputs": [],
   "source": [
    "#ModuleList仅仅是一个储存各种模块的列表，\n",
    "#这些模块之间没有联系也没有顺序（所以不用保证相邻层的输入输出维度匹配），\n",
    "#而且没有实现forward功能需要自己实现，\n",
    "#所以上面执行net(torch.zeros(1, 784))会报NotImplementedError；\n",
    "#而Sequential内的模块需要按照顺序排列，要保证相邻层的输入输出大小相匹配，\n",
    "#内部forward功能已经实现。"
   ]
  },
  {
   "cell_type": "code",
   "execution_count": 8,
   "id": "4736485a",
   "metadata": {
    "ExecuteTime": {
     "end_time": "2021-12-02T01:38:59.580817Z",
     "start_time": "2021-12-02T01:38:59.566853Z"
    }
   },
   "outputs": [],
   "source": [
    "class MyModule(nn.Module):\n",
    "    def __init__(self):\n",
    "        super(MyModule, self).__init__()\n",
    "        self.linears = nn.ModuleLost([nn.Linear(10,10) for i in range(10)])\n",
    "    \n",
    "    def forward(self, x):\n",
    "        for i, l in enumerate(self.linears):\n",
    "            x = self.linears[i//2](x) + l(x)\n",
    "        return x"
   ]
  },
  {
   "cell_type": "code",
   "execution_count": 9,
   "id": "7ca66940",
   "metadata": {
    "ExecuteTime": {
     "end_time": "2021-12-02T01:38:59.596774Z",
     "start_time": "2021-12-02T01:38:59.581814Z"
    }
   },
   "outputs": [
    {
     "name": "stdout",
     "output_type": "stream",
     "text": [
      "net1:\n",
      "torch.Size([10, 10])\n",
      "torch.Size([10])\n",
      "net2:\n"
     ]
    }
   ],
   "source": [
    "#ModuleList不同于一般的Python的list\n",
    "#加入到ModuleList里面的所有模块的参数会被自动添加到整个网络中\n",
    "class Module_ModuleList(nn.Module):\n",
    "    def __init__(self):\n",
    "        super(Module_ModuleList, self).__init__()\n",
    "        self.linears = nn.ModuleList([nn.Linear(10,10)])\n",
    "\n",
    "class Module_List(nn.Module):\n",
    "    def __init__(self):\n",
    "        super(Module_List, self).__init__()\n",
    "        self.linears = [nn.Linear(10,10)]\n",
    "net1 = Module_ModuleList()\n",
    "net2 = Module_List()\n",
    "\n",
    "print(\"net1:\")\n",
    "for p in net1.parameters():\n",
    "    print(p.size())\n",
    "\n",
    "print(\"net2:\")\n",
    "for p in net2.parameters():\n",
    "    print(p)"
   ]
  },
  {
   "cell_type": "markdown",
   "id": "c117ea98",
   "metadata": {},
   "source": [
    "### ModuleDict\n",
    "ModuleDict接收一个子模块的字典作为输入, 然后也可以类似字典那样进行添加访问操作"
   ]
  },
  {
   "cell_type": "code",
   "execution_count": 10,
   "id": "ad252ca6",
   "metadata": {
    "ExecuteTime": {
     "end_time": "2021-12-02T02:08:25.473349Z",
     "start_time": "2021-12-02T02:08:25.455252Z"
    }
   },
   "outputs": [
    {
     "name": "stdout",
     "output_type": "stream",
     "text": [
      "Linear(in_features=784, out_features=256, bias=True)\n",
      "Linear(in_features=256, out_features=10, bias=True)\n",
      "ModuleDict(\n",
      "  (linear): Linear(in_features=784, out_features=256, bias=True)\n",
      "  (act): ReLU()\n",
      "  (output): Linear(in_features=256, out_features=10, bias=True)\n",
      ")\n"
     ]
    }
   ],
   "source": [
    "net = nn.ModuleDict({\n",
    "    'linear':nn.Linear(784, 256),\n",
    "    'act': nn.ReLU(),\n",
    "})\n",
    "\n",
    "net['output'] = nn.Linear(256,10)\n",
    "print(net['linear'])\n",
    "print(net.output)\n",
    "print(net)"
   ]
  },
  {
   "cell_type": "markdown",
   "id": "ca021023",
   "metadata": {},
   "source": [
    "## 构造复杂的模型"
   ]
  },
  {
   "cell_type": "code",
   "execution_count": 13,
   "id": "03f4e1d7",
   "metadata": {
    "ExecuteTime": {
     "end_time": "2021-12-02T02:16:50.438084Z",
     "start_time": "2021-12-02T02:16:50.424121Z"
    }
   },
   "outputs": [],
   "source": [
    "class FancyMLP(nn.Module):\n",
    "    def __init__(self, **kwargs):\n",
    "        super(FancyMLP, self).__init__(**kwargs)\n",
    "        self.rand_weight = torch.rand((20, 20), requires_grad=False)\n",
    "        self.linear = nn.Linear(20, 20)\n",
    "    \n",
    "    def forward(self, x):\n",
    "        x = self.linear(x)\n",
    "        x = nn.functional.relu(torch.mm(x, self.rand_weight.data) + 1)\n",
    "        x = self.linear(x)\n",
    "        #控制流\n",
    "        while x.norm().item() > 1:\n",
    "            x /= 2\n",
    "        if x.norm().item() < 0.8:\n",
    "            x *= 10\n",
    "        return x.sum()"
   ]
  },
  {
   "cell_type": "code",
   "execution_count": 14,
   "id": "df9620d8",
   "metadata": {
    "ExecuteTime": {
     "end_time": "2021-12-02T02:18:00.135936Z",
     "start_time": "2021-12-02T02:18:00.104325Z"
    }
   },
   "outputs": [
    {
     "name": "stdout",
     "output_type": "stream",
     "text": [
      "FancyMLP(\n",
      "  (linear): Linear(in_features=20, out_features=20, bias=True)\n",
      ")\n"
     ]
    },
    {
     "data": {
      "text/plain": [
       "tensor(0.8240, grad_fn=<SumBackward0>)"
      ]
     },
     "execution_count": 14,
     "metadata": {},
     "output_type": "execute_result"
    }
   ],
   "source": [
    "X = torch.rand(2, 20)\n",
    "net = FancyMLP()\n",
    "print(net)\n",
    "net(X)"
   ]
  },
  {
   "cell_type": "code",
   "execution_count": 22,
   "id": "c2806cba",
   "metadata": {
    "ExecuteTime": {
     "end_time": "2021-12-02T02:21:51.549881Z",
     "start_time": "2021-12-02T02:21:51.534865Z"
    }
   },
   "outputs": [
    {
     "name": "stdout",
     "output_type": "stream",
     "text": [
      "Sequential(\n",
      "  (0): NestMLP(\n",
      "    (net): Sequential(\n",
      "      (0): Linear(in_features=40, out_features=30, bias=True)\n",
      "      (1): ReLU()\n",
      "    )\n",
      "  )\n",
      "  (1): Linear(in_features=30, out_features=20, bias=True)\n",
      "  (2): FancyMLP(\n",
      "    (linear): Linear(in_features=20, out_features=20, bias=True)\n",
      "  )\n",
      ")\n"
     ]
    },
    {
     "data": {
      "text/plain": [
       "tensor(20.7287, grad_fn=<SumBackward0>)"
      ]
     },
     "execution_count": 22,
     "metadata": {},
     "output_type": "execute_result"
    }
   ],
   "source": [
    "#因为FancyMLP和Sequential类都是Module类的子类，所以我们可以嵌套调用它们。\n",
    "class NestMLP(nn.Module):\n",
    "    def __init__(self, **kwargs):\n",
    "        super(NestMLP, self).__init__(**kwargs)\n",
    "        self.net = nn.Sequential(nn.Linear(40, 30),\n",
    "                                nn.ReLU())\n",
    "    def forward(self, x):\n",
    "        return self.net(x)\n",
    "\n",
    "net = nn.Sequential(NestMLP(), nn.Linear(30, 20), FancyMLP())\n",
    "X = torch.rand(2, 40)\n",
    "print(net)\n",
    "net(X)"
   ]
  },
  {
   "cell_type": "markdown",
   "id": "cd8a17b9",
   "metadata": {},
   "source": [
    "# 模型参数的访问、初始化和共享"
   ]
  },
  {
   "cell_type": "code",
   "execution_count": 23,
   "id": "b3d004a5",
   "metadata": {
    "ExecuteTime": {
     "end_time": "2021-12-02T02:23:57.794656Z",
     "start_time": "2021-12-02T02:23:57.775706Z"
    }
   },
   "outputs": [
    {
     "name": "stdout",
     "output_type": "stream",
     "text": [
      "Sequential(\n",
      "  (0): Linear(in_features=4, out_features=3, bias=True)\n",
      "  (1): ReLU()\n",
      "  (2): Linear(in_features=3, out_features=1, bias=True)\n",
      ")\n"
     ]
    }
   ],
   "source": [
    "#使用默认方式初始化参数\n",
    "net = nn.Sequential(nn.Linear(4,3), nn.ReLU(), nn.Linear(3,1))\n",
    "print(net)\n",
    "X = torch.rand(2, 4)\n",
    "Y = net(X).sum()"
   ]
  },
  {
   "cell_type": "markdown",
   "id": "334dab36",
   "metadata": {},
   "source": [
    "## 访问模型参数"
   ]
  },
  {
   "cell_type": "code",
   "execution_count": 24,
   "id": "222bcee7",
   "metadata": {
    "ExecuteTime": {
     "end_time": "2021-12-02T02:26:31.115864Z",
     "start_time": "2021-12-02T02:26:31.104894Z"
    }
   },
   "outputs": [
    {
     "name": "stdout",
     "output_type": "stream",
     "text": [
      "<class 'generator'>\n",
      "0.weight torch.Size([3, 4])\n",
      "0.bias torch.Size([3])\n",
      "2.weight torch.Size([1, 3])\n",
      "2.bias torch.Size([1])\n"
     ]
    }
   ],
   "source": [
    "#我们可以通过Module类的parameters()或者named_parameters方法来访问所有参数（以迭代器的形式返回）\n",
    "#后者除了返回参数Tensor外还会返回其名字\n",
    "print(type(net.named_parameters()))\n",
    "for name, param in net.named_parameters():\n",
    "    print(name, param.size())"
   ]
  },
  {
   "cell_type": "code",
   "execution_count": 25,
   "id": "4fd23118",
   "metadata": {
    "ExecuteTime": {
     "end_time": "2021-12-02T02:27:42.908446Z",
     "start_time": "2021-12-02T02:27:42.903460Z"
    }
   },
   "outputs": [
    {
     "name": "stdout",
     "output_type": "stream",
     "text": [
      "weight torch.Size([3, 4]) <class 'torch.nn.parameter.Parameter'>\n",
      "bias torch.Size([3]) <class 'torch.nn.parameter.Parameter'>\n"
     ]
    }
   ],
   "source": [
    "for name, param in net[0].named_parameters():\n",
    "    print(name, param.size(), type(param))"
   ]
  },
  {
   "cell_type": "code",
   "execution_count": 27,
   "id": "74ca3b80",
   "metadata": {
    "ExecuteTime": {
     "end_time": "2021-12-02T02:30:30.834546Z",
     "start_time": "2021-12-02T02:30:30.823604Z"
    }
   },
   "outputs": [
    {
     "name": "stdout",
     "output_type": "stream",
     "text": [
      "weight1\n"
     ]
    }
   ],
   "source": [
    "#如果一个Tensor是Parameter，那么它会自动被添加到模型的参数列表里\n",
    "class MyModel(nn.Module):\n",
    "    def __init__(self, **kwargs):\n",
    "        super(MyModel, self).__init__(**kwargs)\n",
    "        self.weight1 = nn.Parameter(torch.rand(20, 20))\n",
    "        self.weight2 = torch.rand(20, 20)\n",
    "    \n",
    "    def forward(self, x):\n",
    "        pass\n",
    "\n",
    "#weight1在参数列表中但是weight2却没在参数列表中。\n",
    "n = MyModel()\n",
    "for name, param in n.named_parameters():\n",
    "    print(name)"
   ]
  },
  {
   "cell_type": "markdown",
   "id": "f9dec71b",
   "metadata": {},
   "source": [
    "## 初始化模型参数\n",
    "PyTorch的init模块里提供了多种预设的初始化方法"
   ]
  },
  {
   "cell_type": "code",
   "execution_count": 28,
   "id": "bd46d776",
   "metadata": {
    "ExecuteTime": {
     "end_time": "2021-12-02T02:34:22.102515Z",
     "start_time": "2021-12-02T02:34:22.087521Z"
    }
   },
   "outputs": [
    {
     "name": "stdout",
     "output_type": "stream",
     "text": [
      "0.weight tensor([[-0.0051, -0.0069,  0.0190,  0.0027],\n",
      "        [-0.0056,  0.0079,  0.0113,  0.0088],\n",
      "        [ 0.0129,  0.0207,  0.0124, -0.0024]])\n",
      "2.weight tensor([[-0.0041, -0.0113,  0.0051]])\n"
     ]
    }
   ],
   "source": [
    "for name, param in net.named_parameters():\n",
    "    if 'weight' in name:\n",
    "        init.normal_(param, mean=0, std=0.01)\n",
    "        print(name, param.data)"
   ]
  },
  {
   "cell_type": "code",
   "execution_count": 29,
   "id": "26699950",
   "metadata": {
    "ExecuteTime": {
     "end_time": "2021-12-02T02:36:04.626162Z",
     "start_time": "2021-12-02T02:36:04.615192Z"
    }
   },
   "outputs": [
    {
     "name": "stdout",
     "output_type": "stream",
     "text": [
      "0.bias tensor([0., 0., 0.])\n",
      "2.bias tensor([0.])\n"
     ]
    }
   ],
   "source": [
    "for name, param in net.named_parameters():\n",
    "    if 'bias' in name:\n",
    "        init.constant_(param, val=0)\n",
    "        print(name, param.data)"
   ]
  },
  {
   "cell_type": "markdown",
   "id": "17ec2e7a",
   "metadata": {},
   "source": [
    "## 自定义初始化方法\n",
    "我们令权重有一半概率初始化为0，有另一半概率初始化为[−10,−5]和[5,10]两个区间里均匀分布的随机数。"
   ]
  },
  {
   "cell_type": "code",
   "execution_count": 30,
   "id": "37785945",
   "metadata": {
    "ExecuteTime": {
     "end_time": "2021-12-02T02:38:34.507263Z",
     "start_time": "2021-12-02T02:38:34.488316Z"
    }
   },
   "outputs": [
    {
     "name": "stdout",
     "output_type": "stream",
     "text": [
      "0.weight tensor([[-0.0000,  8.1128, -0.0000, -0.0000],\n",
      "        [-8.4758,  6.2336, -6.7908, -9.9704],\n",
      "        [-0.0000,  6.9162, -0.0000, -9.5517]])\n",
      "2.weight tensor([[-5.7665,  0.0000, -0.0000]])\n"
     ]
    }
   ],
   "source": [
    "def init_weight_(tensor):\n",
    "    with torch.no_grad():\n",
    "        tensor.uniform_(-10, 10)\n",
    "        tensor *= (tensor.abs() >= 5).float()\n",
    "\n",
    "for name, param in net.named_parameters():\n",
    "    if 'weight' in name:\n",
    "        init_weight_(param)\n",
    "        print(name, param.data)"
   ]
  },
  {
   "cell_type": "markdown",
   "id": "d19df0df",
   "metadata": {},
   "source": [
    "##  共享模型参数"
   ]
  },
  {
   "cell_type": "code",
   "execution_count": 31,
   "id": "abb5f09a",
   "metadata": {
    "ExecuteTime": {
     "end_time": "2021-12-02T02:41:05.354613Z",
     "start_time": "2021-12-02T02:41:05.335689Z"
    }
   },
   "outputs": [
    {
     "name": "stdout",
     "output_type": "stream",
     "text": [
      "Sequential(\n",
      "  (0): Linear(in_features=1, out_features=1, bias=False)\n",
      "  (1): Linear(in_features=1, out_features=1, bias=False)\n",
      ")\n",
      "0.weight tensor([[3.]])\n"
     ]
    }
   ],
   "source": [
    "linear = nn.Linear(1, 1, bias=False)\n",
    "net = nn.Sequential(linear, linear)\n",
    "print(net)\n",
    "for name, param in net.named_parameters():\n",
    "    init.constant_(param, val=3)\n",
    "    print(name, param.data)"
   ]
  },
  {
   "cell_type": "code",
   "execution_count": 32,
   "id": "7599e224",
   "metadata": {
    "ExecuteTime": {
     "end_time": "2021-12-02T02:41:46.604209Z",
     "start_time": "2021-12-02T02:41:46.599222Z"
    }
   },
   "outputs": [
    {
     "name": "stdout",
     "output_type": "stream",
     "text": [
      "True\n",
      "True\n"
     ]
    }
   ],
   "source": [
    "print(id(net[0]) == id(net[1]))\n",
    "print(id(net[0].weight) == id(net[1].weight))\n"
   ]
  },
  {
   "cell_type": "code",
   "execution_count": 34,
   "id": "9d8a57d2",
   "metadata": {
    "ExecuteTime": {
     "end_time": "2021-12-02T02:43:57.660307Z",
     "start_time": "2021-12-02T02:43:57.639363Z"
    }
   },
   "outputs": [
    {
     "name": "stdout",
     "output_type": "stream",
     "text": [
      "tensor(9., grad_fn=<SumBackward0>)\n",
      "tensor([[6.]])\n"
     ]
    }
   ],
   "source": [
    "#因为模型参数里包含了梯度，所以在反向传播计算时，这些共享的参数的梯度是累加的\n",
    "x = torch.ones(1, 1)\n",
    "y = net(x).sum()\n",
    "print(y)\n",
    "y.backward()\n",
    "print(net[0].weight.grad)"
   ]
  },
  {
   "cell_type": "code",
   "execution_count": 36,
   "id": "7cce5d4c",
   "metadata": {
    "ExecuteTime": {
     "end_time": "2021-12-02T02:44:32.382339Z",
     "start_time": "2021-12-02T02:44:32.367351Z"
    }
   },
   "outputs": [
    {
     "data": {
      "text/plain": [
       "tensor([[1., 1.],\n",
       "        [1., 1.]])"
      ]
     },
     "execution_count": 36,
     "metadata": {},
     "output_type": "execute_result"
    }
   ],
   "source": [
    "torch.ones(2, 2)"
   ]
  },
  {
   "cell_type": "markdown",
   "id": "e1f4d546",
   "metadata": {},
   "source": [
    "# 自定义层"
   ]
  },
  {
   "cell_type": "markdown",
   "id": "f86e0444",
   "metadata": {},
   "source": [
    "## 不含模型参数的自定义层"
   ]
  },
  {
   "cell_type": "code",
   "execution_count": 2,
   "id": "44822d50",
   "metadata": {
    "ExecuteTime": {
     "end_time": "2021-12-04T07:48:21.279541Z",
     "start_time": "2021-12-04T07:48:21.261588Z"
    }
   },
   "outputs": [],
   "source": [
    "class CenteredLayer(nn.Module):\n",
    "    def __init__(self, **kwargs):\n",
    "        super(CenteredLayer, self).__init__(**kwargs)\n",
    "        \n",
    "    def forward(self, x):\n",
    "        return x - x.mean()"
   ]
  },
  {
   "cell_type": "code",
   "execution_count": 3,
   "id": "de77b383",
   "metadata": {
    "ExecuteTime": {
     "end_time": "2021-12-04T07:49:13.663144Z",
     "start_time": "2021-12-04T07:49:13.613323Z"
    }
   },
   "outputs": [
    {
     "data": {
      "text/plain": [
       "tensor([-2., -1.,  0.,  1.,  2.])"
      ]
     },
     "execution_count": 3,
     "metadata": {},
     "output_type": "execute_result"
    }
   ],
   "source": [
    "#做前向计算\n",
    "layer = CenteredLayer()\n",
    "layer(torch.tensor([1, 2, 3, 4, 5], dtype=torch.float))"
   ]
  },
  {
   "cell_type": "code",
   "execution_count": 11,
   "id": "5329d472",
   "metadata": {
    "ExecuteTime": {
     "end_time": "2021-12-04T07:51:47.320279Z",
     "start_time": "2021-12-04T07:51:47.300333Z"
    }
   },
   "outputs": [
    {
     "data": {
      "text/plain": [
       "(torch.Size([4, 128]), 1.862645149230957e-09)"
      ]
     },
     "execution_count": 11,
     "metadata": {},
     "output_type": "execute_result"
    }
   ],
   "source": [
    "#构造更复杂的模型\n",
    "net = nn.Sequential(nn.Linear(8, 128), CenteredLayer())\n",
    "y = net(torch.rand(4,8))\n",
    "y.shape, y.mean().item()"
   ]
  },
  {
   "cell_type": "markdown",
   "id": "42769d94",
   "metadata": {},
   "source": [
    "## 含模型参数的自定义层\n",
    "如果一个Tensor是Parameter，那么它会自动被添加到模型的参数列表里。所以在自定义含模型参数的层时，我们应该将参数定义成Parameter，除了像4.2.1节那样直接定义成Parameter类外，还可以使用ParameterList和ParameterDict分别定义参数的列表和字典。\n",
    "\n",
    "ParameterList接收一个Parameter实例的列表作为输入然后得到一个参数列表，使用的时候可以用索引来访问某个参数，另外也可以使用append和extend在列表后面新增参数。"
   ]
  },
  {
   "cell_type": "code",
   "execution_count": 21,
   "id": "f7f2a459",
   "metadata": {
    "ExecuteTime": {
     "end_time": "2021-12-04T08:08:00.585283Z",
     "start_time": "2021-12-04T08:08:00.573342Z"
    }
   },
   "outputs": [
    {
     "name": "stdout",
     "output_type": "stream",
     "text": [
      "MyListDense(\n",
      "  (params): ParameterList(\n",
      "      (0): Parameter containing: [torch.FloatTensor of size 4x4]\n",
      "      (1): Parameter containing: [torch.FloatTensor of size 4x4]\n",
      "      (2): Parameter containing: [torch.FloatTensor of size 4x4]\n",
      "      (3): Parameter containing: [torch.FloatTensor of size 4x1]\n",
      "  )\n",
      ")\n"
     ]
    }
   ],
   "source": [
    "class MyListDense(nn.Module):\n",
    "    def __init__(self):\n",
    "        super(MyListDense, self).__init__()\n",
    "        self.params = nn.ParameterList([nn.Parameter(torch.randn(4,4)) for i in range(3)])\n",
    "        self.params.append(nn.Parameter(torch.randn(4,1)))\n",
    "    \n",
    "    def forward(self, x):\n",
    "        for i in range(len(self.params)):\n",
    "            x = torch.mm(x, self.params[i])\n",
    "        return x\n",
    "\n",
    "net = MyListDense()\n",
    "print(net)"
   ]
  },
  {
   "cell_type": "markdown",
   "id": "0107e6cc",
   "metadata": {},
   "source": [
    "ParameterDict接收一个Parameter实例的字典作为输入然后得到一个参数字典，然后可以按照字典的规则使用了。例如使用update()新增参数，使用keys()返回所有键值，使用items()返回所有键值对等等，可参考官方文档。"
   ]
  },
  {
   "cell_type": "code",
   "execution_count": 22,
   "id": "a554581f",
   "metadata": {
    "ExecuteTime": {
     "end_time": "2021-12-04T08:08:01.605246Z",
     "start_time": "2021-12-04T08:08:01.588291Z"
    }
   },
   "outputs": [
    {
     "name": "stdout",
     "output_type": "stream",
     "text": [
      "MyDictDense(\n",
      "  (params): ParameterDict(\n",
      "      (linear1): Parameter containing: [torch.FloatTensor of size 4x4]\n",
      "      (linear2): Parameter containing: [torch.FloatTensor of size 4x1]\n",
      "      (linear3): Parameter containing: [torch.FloatTensor of size 4x2]\n",
      "  )\n",
      ")\n"
     ]
    }
   ],
   "source": [
    "class MyDictDense(nn.Module):\n",
    "    def __init__(self):\n",
    "        super(MyDictDense, self).__init__()\n",
    "        self.params = nn.ParameterDict({\n",
    "            'linear1': nn.Parameter(torch.randn(4,4)),\n",
    "            'linear2': nn.Parameter(torch.randn(4,1))\n",
    "        })\n",
    "        self.params.update({'linear3': nn.Parameter(torch.randn(4, 2))})\n",
    "    \n",
    "    def forward(self, x, choice='linear1'):\n",
    "        return torch.mm(x, self.params[choice])\n",
    "\n",
    "net = MyDictDense()\n",
    "print(net)"
   ]
  },
  {
   "cell_type": "code",
   "execution_count": 23,
   "id": "d5a41270",
   "metadata": {
    "ExecuteTime": {
     "end_time": "2021-12-04T08:08:01.748081Z",
     "start_time": "2021-12-04T08:08:01.740131Z"
    }
   },
   "outputs": [
    {
     "name": "stdout",
     "output_type": "stream",
     "text": [
      "tensor([[-0.1201, -0.8272, -4.1857,  1.2931]], grad_fn=<MmBackward>)\n",
      "tensor([[0.1342]], grad_fn=<MmBackward>)\n",
      "tensor([[1.5546, 1.8816]], grad_fn=<MmBackward>)\n"
     ]
    }
   ],
   "source": [
    "#可以根据传入的键值来进行不同的前向传播\n",
    "x = torch.ones(1, 4)\n",
    "print(net(x, 'linear1'))\n",
    "print(net(x, 'linear2'))\n",
    "print(net(x, 'linear3'))"
   ]
  },
  {
   "cell_type": "code",
   "execution_count": 24,
   "id": "1996fb76",
   "metadata": {
    "ExecuteTime": {
     "end_time": "2021-12-04T08:08:02.424536Z",
     "start_time": "2021-12-04T08:08:02.412591Z"
    }
   },
   "outputs": [
    {
     "name": "stdout",
     "output_type": "stream",
     "text": [
      "Sequential(\n",
      "  (0): MyDictDense(\n",
      "    (params): ParameterDict(\n",
      "        (linear1): Parameter containing: [torch.FloatTensor of size 4x4]\n",
      "        (linear2): Parameter containing: [torch.FloatTensor of size 4x1]\n",
      "        (linear3): Parameter containing: [torch.FloatTensor of size 4x2]\n",
      "    )\n",
      "  )\n",
      "  (1): MyListDense(\n",
      "    (params): ParameterList(\n",
      "        (0): Parameter containing: [torch.FloatTensor of size 4x4]\n",
      "        (1): Parameter containing: [torch.FloatTensor of size 4x4]\n",
      "        (2): Parameter containing: [torch.FloatTensor of size 4x4]\n",
      "        (3): Parameter containing: [torch.FloatTensor of size 4x1]\n",
      "    )\n",
      "  )\n",
      ")\n",
      "tensor([[21.4086]], grad_fn=<MmBackward>)\n"
     ]
    }
   ],
   "source": [
    "#组合\n",
    "net = nn.Sequential(\n",
    "    MyDictDense(),\n",
    "    MyListDense(),\n",
    ")\n",
    "print(net)\n",
    "print(net(x))"
   ]
  },
  {
   "cell_type": "markdown",
   "id": "9735155a",
   "metadata": {},
   "source": [
    "# 读取和存储"
   ]
  },
  {
   "cell_type": "markdown",
   "id": "01d4774d",
   "metadata": {},
   "source": [
    "## 读写Tensor\n",
    "save使用Python的pickle实用程序将对象进行序列化，然后将序列化的对象保存到disk，使用save可以保存各种对象,包括模型、张量和字典等。而load使用pickle unpickle工具将pickle的对象文件反序列化为内存。"
   ]
  },
  {
   "cell_type": "code",
   "execution_count": 25,
   "id": "b638d665",
   "metadata": {
    "ExecuteTime": {
     "end_time": "2021-12-04T08:10:03.479348Z",
     "start_time": "2021-12-04T08:10:03.461396Z"
    }
   },
   "outputs": [],
   "source": [
    "#save\n",
    "x = torch.ones(3)\n",
    "torch.save(x, 'x.pt')"
   ]
  },
  {
   "cell_type": "code",
   "execution_count": 26,
   "id": "bc39a3a2",
   "metadata": {
    "ExecuteTime": {
     "end_time": "2021-12-04T08:10:32.052915Z",
     "start_time": "2021-12-04T08:10:32.036986Z"
    }
   },
   "outputs": [
    {
     "data": {
      "text/plain": [
       "tensor([1., 1., 1.])"
      ]
     },
     "execution_count": 26,
     "metadata": {},
     "output_type": "execute_result"
    }
   ],
   "source": [
    "#load\n",
    "x2 = torch.load('x.pt')\n",
    "x2"
   ]
  },
  {
   "cell_type": "code",
   "execution_count": 28,
   "id": "10755d79",
   "metadata": {
    "ExecuteTime": {
     "end_time": "2021-12-04T08:11:32.608679Z",
     "start_time": "2021-12-04T08:11:32.597708Z"
    }
   },
   "outputs": [
    {
     "data": {
      "text/plain": [
       "[tensor([1., 1., 1.]), tensor([0., 0., 0., 0.])]"
      ]
     },
     "execution_count": 28,
     "metadata": {},
     "output_type": "execute_result"
    }
   ],
   "source": [
    "#Tensor列表存储\n",
    "y = torch.zeros(4)\n",
    "torch.save([x,y], 'xy.pt')\n",
    "xy_list = torch.load('xy.pt')\n",
    "xy_list"
   ]
  },
  {
   "cell_type": "code",
   "execution_count": 29,
   "id": "7ee54a04",
   "metadata": {
    "ExecuteTime": {
     "end_time": "2021-12-04T08:12:05.510353Z",
     "start_time": "2021-12-04T08:12:05.500359Z"
    }
   },
   "outputs": [
    {
     "data": {
      "text/plain": [
       "{'x': tensor([1., 1., 1.]), 'y': tensor([0., 0., 0., 0.])}"
      ]
     },
     "execution_count": 29,
     "metadata": {},
     "output_type": "execute_result"
    }
   ],
   "source": [
    "#dict存储\n",
    "torch.save({'x': x, 'y': y}, 'xy_dict.pt')\n",
    "xy = torch.load('xy_dict.pt')\n",
    "xy"
   ]
  },
  {
   "cell_type": "markdown",
   "id": "ed490fe1",
   "metadata": {},
   "source": [
    "## 读写模型"
   ]
  },
  {
   "cell_type": "markdown",
   "id": "6f8abbdf",
   "metadata": {},
   "source": [
    "### state_dict"
   ]
  },
  {
   "cell_type": "code",
   "execution_count": 30,
   "id": "692eeef6",
   "metadata": {
    "ExecuteTime": {
     "end_time": "2021-12-04T08:12:59.260175Z",
     "start_time": "2021-12-04T08:12:59.253170Z"
    }
   },
   "outputs": [
    {
     "data": {
      "text/plain": [
       "OrderedDict([('hidden.weight',\n",
       "              tensor([[-0.2123,  0.4566, -0.3201],\n",
       "                      [-0.1952, -0.2500, -0.3745]])),\n",
       "             ('hidden.bias', tensor([-0.3915, -0.4543])),\n",
       "             ('output.weight', tensor([[-0.2032,  0.3158]])),\n",
       "             ('output.bias', tensor([0.1327]))])"
      ]
     },
     "execution_count": 30,
     "metadata": {},
     "output_type": "execute_result"
    }
   ],
   "source": [
    "class MLP(nn.Module):\n",
    "    def __init__(self):\n",
    "        super(MLP, self).__init__()\n",
    "        self.hidden = nn.Linear(3, 2)\n",
    "        self.act = nn.ReLU()\n",
    "        self.output = nn.Linear(2, 1)\n",
    "\n",
    "    def forward(self, x):\n",
    "        a = self.act(self.hidden(x))\n",
    "        return self.output(a)\n",
    "\n",
    "net = MLP()\n",
    "net.state_dict()"
   ]
  },
  {
   "cell_type": "code",
   "execution_count": 31,
   "id": "029e0a98",
   "metadata": {
    "ExecuteTime": {
     "end_time": "2021-12-04T08:13:22.039883Z",
     "start_time": "2021-12-04T08:13:22.021931Z"
    }
   },
   "outputs": [
    {
     "data": {
      "text/plain": [
       "{'state': {},\n",
       " 'param_groups': [{'lr': 0.001,\n",
       "   'momentum': 0.9,\n",
       "   'dampening': 0,\n",
       "   'weight_decay': 0,\n",
       "   'nesterov': False,\n",
       "   'params': [0, 1, 2, 3]}]}"
      ]
     },
     "execution_count": 31,
     "metadata": {},
     "output_type": "execute_result"
    }
   ],
   "source": [
    "#只有具有可学习参数的层(卷积层、线性层等)才有state_dict中的条目。优化器(optim)也有一个state_dict\n",
    "#其中包含关于优化器状态以及所使用的超参数的信息。\n",
    "optimizer = torch.optim.SGD(net.parameters(), lr=0.001, momentum=0.9)\n",
    "optimizer.state_dict()"
   ]
  },
  {
   "cell_type": "code",
   "execution_count": 32,
   "id": "2ec0ace4",
   "metadata": {
    "ExecuteTime": {
     "end_time": "2021-12-04T08:14:10.687973Z",
     "start_time": "2021-12-04T08:14:10.661045Z"
    }
   },
   "outputs": [
    {
     "data": {
      "text/plain": [
       "tensor([[True],\n",
       "        [True]])"
      ]
     },
     "execution_count": 32,
     "metadata": {},
     "output_type": "execute_result"
    }
   ],
   "source": [
    "X = torch.randn(2, 3)\n",
    "Y = net(X)\n",
    "\n",
    "PATH = \"./net.pt\"\n",
    "torch.save(net.state_dict(), PATH)\n",
    "\n",
    "net2 = MLP()\n",
    "net2.load_state_dict(torch.load(PATH))\n",
    "Y2 = net2(X)\n",
    "Y2 == Y"
   ]
  },
  {
   "cell_type": "markdown",
   "id": "f2f6e0cf",
   "metadata": {},
   "source": [
    "# GPU计算"
   ]
  },
  {
   "cell_type": "markdown",
   "id": "f86419c7",
   "metadata": {},
   "source": [
    "## GPU设备"
   ]
  },
  {
   "cell_type": "code",
   "execution_count": 36,
   "id": "82f7e05f",
   "metadata": {
    "ExecuteTime": {
     "end_time": "2021-12-04T08:15:28.457481Z",
     "start_time": "2021-12-04T08:15:28.414475Z"
    }
   },
   "outputs": [
    {
     "name": "stdout",
     "output_type": "stream",
     "text": [
      "Invalid combination of input arguments. Please run 'nvidia-smi -h' for help.\n",
      "\n"
     ]
    }
   ],
   "source": [
    "!nvidia-smi  -h# 对Linux/macOS用户有效"
   ]
  },
  {
   "cell_type": "code",
   "execution_count": 37,
   "id": "09d597fe",
   "metadata": {
    "ExecuteTime": {
     "end_time": "2021-12-04T08:15:48.931970Z",
     "start_time": "2021-12-04T08:15:48.918008Z"
    }
   },
   "outputs": [
    {
     "data": {
      "text/plain": [
       "True"
      ]
     },
     "execution_count": 37,
     "metadata": {},
     "output_type": "execute_result"
    }
   ],
   "source": [
    "torch.cuda.is_available()"
   ]
  },
  {
   "cell_type": "code",
   "execution_count": 39,
   "id": "1d70d297",
   "metadata": {
    "ExecuteTime": {
     "end_time": "2021-12-04T08:16:15.674452Z",
     "start_time": "2021-12-04T08:16:15.668468Z"
    }
   },
   "outputs": [
    {
     "data": {
      "text/plain": [
       "1"
      ]
     },
     "execution_count": 39,
     "metadata": {},
     "output_type": "execute_result"
    }
   ],
   "source": [
    "#GPU数量\n",
    "torch.cuda.device_count()"
   ]
  },
  {
   "cell_type": "code",
   "execution_count": 40,
   "id": "68607abf",
   "metadata": {
    "ExecuteTime": {
     "end_time": "2021-12-04T08:16:34.753037Z",
     "start_time": "2021-12-04T08:16:34.741983Z"
    }
   },
   "outputs": [
    {
     "data": {
      "text/plain": [
       "0"
      ]
     },
     "execution_count": 40,
     "metadata": {},
     "output_type": "execute_result"
    }
   ],
   "source": [
    "#查看当前GPU索引号，索引号从0开始\n",
    "torch.cuda.current_device()"
   ]
  },
  {
   "cell_type": "code",
   "execution_count": 41,
   "id": "4b8536ae",
   "metadata": {
    "ExecuteTime": {
     "end_time": "2021-12-04T08:16:53.488743Z",
     "start_time": "2021-12-04T08:16:53.477772Z"
    }
   },
   "outputs": [
    {
     "data": {
      "text/plain": [
       "'GeForce GTX 1050 Ti'"
      ]
     },
     "execution_count": 41,
     "metadata": {},
     "output_type": "execute_result"
    }
   ],
   "source": [
    "#根据索引号查看GPU名字\n",
    "torch.cuda.get_device_name(0)"
   ]
  },
  {
   "cell_type": "markdown",
   "id": "c284746b",
   "metadata": {},
   "source": [
    "## Tensor的GPU计算"
   ]
  },
  {
   "cell_type": "code",
   "execution_count": 42,
   "id": "06cde6a2",
   "metadata": {
    "ExecuteTime": {
     "end_time": "2021-12-04T08:17:56.316531Z",
     "start_time": "2021-12-04T08:17:56.309550Z"
    }
   },
   "outputs": [
    {
     "data": {
      "text/plain": [
       "tensor([1, 2, 3])"
      ]
     },
     "execution_count": 42,
     "metadata": {},
     "output_type": "execute_result"
    }
   ],
   "source": [
    "x = torch.tensor([1, 2, 3])\n",
    "x"
   ]
  },
  {
   "cell_type": "code",
   "execution_count": 43,
   "id": "6ab2dec3",
   "metadata": {
    "ExecuteTime": {
     "end_time": "2021-12-04T08:18:27.876749Z",
     "start_time": "2021-12-04T08:18:25.038100Z"
    }
   },
   "outputs": [
    {
     "data": {
      "text/plain": [
       "tensor([1, 2, 3], device='cuda:0')"
      ]
     },
     "execution_count": 43,
     "metadata": {},
     "output_type": "execute_result"
    }
   ],
   "source": [
    "#复制到gpu上\n",
    "x = x.cuda(0)\n",
    "x"
   ]
  },
  {
   "cell_type": "code",
   "execution_count": 44,
   "id": "d0f9048a",
   "metadata": {
    "ExecuteTime": {
     "end_time": "2021-12-04T08:19:37.580762Z",
     "start_time": "2021-12-04T08:19:37.549841Z"
    }
   },
   "outputs": [
    {
     "data": {
      "text/plain": [
       "tensor([1, 2, 3], device='cuda:0')"
      ]
     },
     "execution_count": 44,
     "metadata": {},
     "output_type": "execute_result"
    }
   ],
   "source": [
    "#直接在创建的时候就指定设备\n",
    "device = torch.device('cuda' if torch.cuda.is_available() else 'cpu')\n",
    "x = torch.tensor([1,2,3], device=device)\n",
    "x"
   ]
  },
  {
   "cell_type": "code",
   "execution_count": null,
   "id": "a941ef27",
   "metadata": {},
   "outputs": [],
   "source": []
  },
  {
   "cell_type": "code",
   "execution_count": null,
   "id": "16c396bf",
   "metadata": {},
   "outputs": [],
   "source": []
  },
  {
   "cell_type": "code",
   "execution_count": null,
   "id": "b038051c",
   "metadata": {},
   "outputs": [],
   "source": []
  },
  {
   "cell_type": "code",
   "execution_count": null,
   "id": "7a50a6e2",
   "metadata": {},
   "outputs": [],
   "source": []
  },
  {
   "cell_type": "code",
   "execution_count": null,
   "id": "fd41aef9",
   "metadata": {},
   "outputs": [],
   "source": []
  },
  {
   "cell_type": "code",
   "execution_count": null,
   "id": "be6c09e9",
   "metadata": {},
   "outputs": [],
   "source": []
  }
 ],
 "metadata": {
  "kernelspec": {
   "display_name": "Python 3",
   "language": "python",
   "name": "python3"
  },
  "language_info": {
   "codemirror_mode": {
    "name": "ipython",
    "version": 3
   },
   "file_extension": ".py",
   "mimetype": "text/x-python",
   "name": "python",
   "nbconvert_exporter": "python",
   "pygments_lexer": "ipython3",
   "version": "3.6.13"
  },
  "latex_envs": {
   "LaTeX_envs_menu_present": true,
   "autoclose": true,
   "autocomplete": true,
   "bibliofile": "biblio.bib",
   "cite_by": "apalike",
   "current_citInitial": 1,
   "eqLabelWithNumbers": true,
   "eqNumInitial": 1,
   "hotkeys": {
    "equation": "Ctrl-E",
    "itemize": "Ctrl-I"
   },
   "labels_anchors": false,
   "latex_user_defs": false,
   "report_style_numbering": false,
   "user_envs_cfg": false
  },
  "toc": {
   "base_numbering": 1,
   "nav_menu": {},
   "number_sections": true,
   "sideBar": true,
   "skip_h1_title": false,
   "title_cell": "Table of Contents",
   "title_sidebar": "Contents",
   "toc_cell": false,
   "toc_position": {},
   "toc_section_display": true,
   "toc_window_display": true
  },
  "varInspector": {
   "cols": {
    "lenName": 16,
    "lenType": 16,
    "lenVar": 40
   },
   "kernels_config": {
    "python": {
     "delete_cmd_postfix": "",
     "delete_cmd_prefix": "del ",
     "library": "var_list.py",
     "varRefreshCmd": "print(var_dic_list())"
    },
    "r": {
     "delete_cmd_postfix": ") ",
     "delete_cmd_prefix": "rm(",
     "library": "var_list.r",
     "varRefreshCmd": "cat(var_dic_list()) "
    }
   },
   "types_to_exclude": [
    "module",
    "function",
    "builtin_function_or_method",
    "instance",
    "_Feature"
   ],
   "window_display": false
  }
 },
 "nbformat": 4,
 "nbformat_minor": 5
}
