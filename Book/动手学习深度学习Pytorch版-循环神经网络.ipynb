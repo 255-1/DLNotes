{
 "cells": [
  {
   "cell_type": "code",
   "execution_count": 1,
   "id": "007cf13e",
   "metadata": {
    "ExecuteTime": {
     "end_time": "2021-12-08T06:11:18.638554Z",
     "start_time": "2021-12-08T06:11:18.163820Z"
    }
   },
   "outputs": [],
   "source": [
    "import torch\n",
    "import random\n",
    "import zipfile\n",
    "import time\n",
    "import math\n",
    "import numpy as np\n",
    "from torch import nn, optim\n",
    "import torch.nn.functional as F"
   ]
  },
  {
   "cell_type": "code",
   "execution_count": 2,
   "id": "15b634a8",
   "metadata": {
    "ExecuteTime": {
     "end_time": "2021-12-08T06:11:18.668474Z",
     "start_time": "2021-12-08T06:11:18.639552Z"
    }
   },
   "outputs": [],
   "source": [
    "def load_data_jay_lyrics():\n",
    "    with zipfile.ZipFile('jaychou_lyrics.txt.zip') as zin:\n",
    "        with zin.open('jaychou_lyrics.txt') as f:\n",
    "            corpus_chars = f.read().decode('utf-8')\n",
    "    corpus_chars = corpus_chars.replace('\\n', ' ').replace('\\r', ' ')\n",
    "    corpus_chars = corpus_chars[0:10000]\n",
    "    idx_to_char = list(set(corpus_chars))\n",
    "    char_to_idx = dict([(char, i) for i, char in enumerate(idx_to_char)])\n",
    "    vocab_size = len(char_to_idx)\n",
    "    corpus_indices = [char_to_idx[char] for char in corpus_chars]\n",
    "    sample = corpus_indices[:20]\n",
    "    return corpus_indices, char_to_idx, idx_to_char, vocab_size\n",
    "\n",
    "def data_iter_random(corpus_indices, batch_size, num_steps, device=None):\n",
    "    # 减1是因为输出的索引x是相应输入的索引y加1\n",
    "    num_examples = (len(corpus_indices) -1 ) // num_steps\n",
    "    epoch_size = num_examples // batch_size\n",
    "    example_indices = list(range(num_examples))\n",
    "    random.shuffle(example_indices)\n",
    "    \n",
    "    def _data(pos):\n",
    "        return corpus_indices[pos: pos+num_steps]\n",
    "    if device is None:\n",
    "        device = torch.device('cuda' if torch.cuda.is_available() else 'cpu')\n",
    "    for i in range(epoch_size):\n",
    "        #每次读取batch_size个随机样本\n",
    "        i = i* batch_size\n",
    "        batch_indices = example_indices[i: i+batch_size]\n",
    "        X = [_data(j * num_steps) for j in batch_indices]\n",
    "        Y = [_data(j * num_steps+1) for j in batch_indices]\n",
    "        yield torch.tensor(X, dtype=torch.float32, device=device), torch.tensor(Y, dtype=torch.float32, device=device)\n",
    "    \n",
    "def data_iter_consecutive(corpus_indices, batch_size, num_steps, device=None):\n",
    "    if device == None:\n",
    "        device = torch.device('cuda' if torch.cuda.is_available() else 'cpu')\n",
    "    corpus_indices = torch.tensor(corpus_indices, dtype=torch.float32, device=device)\n",
    "    data_len = len(corpus_indices)\n",
    "    batch_len = data_len // batch_size\n",
    "    indices = corpus_indices[0: batch_size*batch_len].view(batch_size, batch_len)\n",
    "    epoch_size = (batch_len - 1)  // num_steps\n",
    "    for i in range(epoch_size):\n",
    "        i = i * num_steps\n",
    "        X = indices[:, i:i+num_steps]\n",
    "        Y = indices[:, i+1 : i+num_steps+1]\n",
    "        yield X, Y\n",
    "\n",
    "def one_hot(x, n_class, dtype=torch.float32, device=None):\n",
    "    if device == None:\n",
    "        device = 'cuda' if torch.cuda.is_available() else 'cpu'\n",
    "    x = x.long().to(device)\n",
    "    res = torch.zeros(x.shape[0], n_class, dtype=dtype, device=device)\n",
    "    res.scatter_(1, x.view(-1, 1), 1)\n",
    "    return res\n",
    "\n",
    "def to_onehot(X, n_class):\n",
    "    return [one_hot(X[:,i], n_class) for i in range(X.shape[1])]\n",
    "\n",
    "def grad_clipping(params, theta, device):\n",
    "    norm = torch.tensor([0.0], device=device)\n",
    "    for param in params:\n",
    "        norm += (param.grad.data ** 2).sum()\n",
    "    norm = norm.sqrt().item()\n",
    "    if norm > theta:\n",
    "        for param in params:\n",
    "            param.grad.data *= (theta / norm)\n",
    "            \n",
    "def predict_rnn(prefix, num_chars, rnn, params, init_rnn_state,\n",
    "               num_hiddens, vocab_size, device, idx_to_char, char_to_idx):\n",
    "    state = init_rnn_state(1, num_hiddens, device)\n",
    "    output = [char_to_idx[prefix[0]]]\n",
    "    for t in range(num_chars + len(prefix) - 1):\n",
    "        # 将上一时间步的输出作为当前时间步的输入\n",
    "        X = to_onehot(torch.tensor([[output[-1]]], device=device), vocab_size)\n",
    "        # 计算输出和更新隐藏状态\n",
    "        (Y, state) = rnn(X, state, params)\n",
    "        # 下一个时间步的输入是prefix里的字符或者当前的最佳预测字符\n",
    "        if t < len(prefix) - 1:\n",
    "            output.append(char_to_idx[prefix[t+1]])\n",
    "        else:\n",
    "            output.append(int(Y[0].argmax(dim=1).item()))\n",
    "    return ''.join([idx_to_char[i] for i in output])\n",
    "\n",
    "def sgd(params, lr, batch_size):\n",
    "    #定义优化算法\n",
    "    for param in params:\n",
    "        param.data -= lr * param.grad / batch_size"
   ]
  },
  {
   "cell_type": "markdown",
   "id": "c75dcd76",
   "metadata": {},
   "source": [
    "# 循环神经网络"
   ]
  },
  {
   "cell_type": "markdown",
   "id": "2eb04fa5",
   "metadata": {},
   "source": [
    "## 含隐藏状态的循环神经网络\n",
    "验证$ X_tW_{xh}+H_{t-1}W_{hh}$ 的计算等价$X_tH_{t-1}$连结后的矩阵乘以$ W_{xh}$与$ W_{hh}$连结后的矩阵"
   ]
  },
  {
   "cell_type": "code",
   "execution_count": 3,
   "id": "081a973d",
   "metadata": {
    "ExecuteTime": {
     "end_time": "2021-12-08T06:11:18.683434Z",
     "start_time": "2021-12-08T06:11:18.669472Z"
    }
   },
   "outputs": [
    {
     "data": {
      "text/plain": [
       "tensor([[ 1.2250,  0.9437,  1.1191,  0.0807],\n",
       "        [ 0.1978,  0.0854, -1.8729,  0.0352],\n",
       "        [-0.4734, -0.3462, -0.4319, -1.0958]])"
      ]
     },
     "execution_count": 3,
     "metadata": {},
     "output_type": "execute_result"
    }
   ],
   "source": [
    "X, W_xh = torch.randn(3, 1), torch.randn(1,4)\n",
    "H, W_hh = torch.randn(3, 4), torch.rand(4,4) #H为X*W_xh\n",
    "torch.mm(X, W_xh) + torch.mm(H, W_hh)"
   ]
  },
  {
   "cell_type": "code",
   "execution_count": 4,
   "id": "024de991",
   "metadata": {
    "ExecuteTime": {
     "end_time": "2021-12-08T06:11:18.698394Z",
     "start_time": "2021-12-08T06:11:18.684431Z"
    }
   },
   "outputs": [
    {
     "data": {
      "text/plain": [
       "tensor([[ 1.2250,  0.9437,  1.1191,  0.0807],\n",
       "        [ 0.1978,  0.0854, -1.8729,  0.0352],\n",
       "        [-0.4734, -0.3462, -0.4319, -1.0958]])"
      ]
     },
     "execution_count": 4,
     "metadata": {},
     "output_type": "execute_result"
    }
   ],
   "source": [
    "torch.matmul(torch.cat((X, H), dim=1), torch.cat((W_xh, W_hh), dim=0))"
   ]
  },
  {
   "cell_type": "markdown",
   "id": "a60421f1",
   "metadata": {},
   "source": [
    "# 语言模型数据集（周杰伦专辑歌词）"
   ]
  },
  {
   "cell_type": "code",
   "execution_count": 5,
   "id": "04361699",
   "metadata": {
    "ExecuteTime": {
     "end_time": "2021-12-08T06:11:18.713354Z",
     "start_time": "2021-12-08T06:11:18.699392Z"
    }
   },
   "outputs": [
    {
     "data": {
      "text/plain": [
       "'想要有直升机\\n想要和你飞到宇宙去\\n想要和你融化在一起\\n融化在宇宙里\\n我每天每天每'"
      ]
     },
     "execution_count": 5,
     "metadata": {},
     "output_type": "execute_result"
    }
   ],
   "source": [
    "with zipfile.ZipFile('jaychou_lyrics.txt.zip') as zin:\n",
    "    with zin.open('jaychou_lyrics.txt') as f:\n",
    "        corpus_chars = f.read().decode('utf-8')\n",
    "corpus_chars[:40]"
   ]
  },
  {
   "cell_type": "code",
   "execution_count": 6,
   "id": "6b758174",
   "metadata": {
    "ExecuteTime": {
     "end_time": "2021-12-08T06:11:18.728314Z",
     "start_time": "2021-12-08T06:11:18.714353Z"
    }
   },
   "outputs": [],
   "source": [
    "#把换行符替换成空格，然后仅使用前1万个字符来训练模型\n",
    "corpus_chars = corpus_chars.replace('\\n', ' ').replace('\\r', ' ')\n",
    "corpus_chars = corpus_chars[0:10000]"
   ]
  },
  {
   "cell_type": "markdown",
   "id": "c98cf0b6",
   "metadata": {},
   "source": [
    "## 建立字符索引"
   ]
  },
  {
   "cell_type": "code",
   "execution_count": 7,
   "id": "d189d952",
   "metadata": {
    "ExecuteTime": {
     "end_time": "2021-12-08T06:11:18.743274Z",
     "start_time": "2021-12-08T06:11:18.729312Z"
    }
   },
   "outputs": [
    {
     "data": {
      "text/plain": [
       "1027"
      ]
     },
     "execution_count": 7,
     "metadata": {},
     "output_type": "execute_result"
    }
   ],
   "source": [
    "idx_to_char = list(set(corpus_chars))\n",
    "char_to_idx = dict([(char, i) for i, char in enumerate(idx_to_char)])\n",
    "vocab_size = len(char_to_idx)\n",
    "vocab_size"
   ]
  },
  {
   "cell_type": "code",
   "execution_count": 8,
   "id": "559152b1",
   "metadata": {
    "ExecuteTime": {
     "end_time": "2021-12-08T06:11:18.758234Z",
     "start_time": "2021-12-08T06:11:18.745269Z"
    }
   },
   "outputs": [
    {
     "name": "stdout",
     "output_type": "stream",
     "text": [
      "chars: 想要有直升机 想要和你飞到宇宙去 想要和\n",
      "indices: [741, 161, 913, 701, 886, 876, 931, 741, 161, 805, 1010, 690, 840, 465, 471, 862, 931, 741, 161, 805]\n"
     ]
    }
   ],
   "source": [
    "#训练数据集中每个字符转化为索引，并打印前20个字符及其对应的索引\n",
    "corpus_indices = [char_to_idx[char] for char in corpus_chars]\n",
    "sample = corpus_indices[:20]\n",
    "print('chars:', ''.join([idx_to_char[idx] for idx in sample]))\n",
    "print('indices:', sample)\n"
   ]
  },
  {
   "cell_type": "markdown",
   "id": "3969306d",
   "metadata": {},
   "source": [
    "## 时序数据的采样"
   ]
  },
  {
   "cell_type": "markdown",
   "id": "3e4d09db",
   "metadata": {},
   "source": [
    "### 随机采样\n",
    "下面的代码每次从数据里随机采样一个小批量。其中批量大小batch_size指每个小批量的样本数，num_steps为每个样本所包含的时间步数。 在随机采样中，每个样本是原始序列上任意截取的一段序列。相邻的两个随机小批量在原始序列上的位置不一定相毗邻。因此，我们无法用一个小批量最终时间步的隐藏状态来初始化下一个小批量的隐藏状态。在训练模型时，每次随机采样前都需要重新初始化隐藏状态。"
   ]
  },
  {
   "cell_type": "code",
   "execution_count": 9,
   "id": "4ba20363",
   "metadata": {
    "ExecuteTime": {
     "end_time": "2021-12-08T06:11:18.773194Z",
     "start_time": "2021-12-08T06:11:18.759232Z"
    }
   },
   "outputs": [],
   "source": [
    "def data_iter_random(corpus_indices, batch_size, num_steps, device=None):\n",
    "    # 减1是因为输出的索引x是相应输入的索引y加1\n",
    "    num_examples = (len(corpus_indices) -1 ) // num_steps\n",
    "    epoch_size = num_examples // batch_size\n",
    "    example_indices = list(range(num_examples))\n",
    "    random.shuffle(example_indices)\n",
    "    \n",
    "    def _data(pos):\n",
    "        return corpus_indices[pos: pos+num_steps]\n",
    "    if device is None:\n",
    "        device = torch.device('cuda' if torch.cuda.is_available() else 'cpu')\n",
    "    for i in range(epoch_size):\n",
    "        #每次读取batch_size个随机样本\n",
    "        i = i* batch_size\n",
    "        batch_indices = example_indices[i: i+batch_size]\n",
    "        X = [_data(j * num_steps) for j in batch_indices]\n",
    "        Y = [_data(j * num_steps+1) for j in batch_indices]\n",
    "        yield torch.tensor(X, dtype=torch.float32, device=device), torch.tensor(Y, dtype=torch.float32, device=device)"
   ]
  },
  {
   "cell_type": "code",
   "execution_count": 10,
   "id": "59b9a67c",
   "metadata": {
    "ExecuteTime": {
     "end_time": "2021-12-08T06:11:20.111949Z",
     "start_time": "2021-12-08T06:11:18.774191Z"
    }
   },
   "outputs": [
    {
     "name": "stdout",
     "output_type": "stream",
     "text": [
      "X:  tensor([[12., 13., 14., 15., 16., 17.],\n",
      "        [ 6.,  7.,  8.,  9., 10., 11.]], device='cuda:0') \n",
      "Y: tensor([[13., 14., 15., 16., 17., 18.],\n",
      "        [ 7.,  8.,  9., 10., 11., 12.]], device='cuda:0') \n",
      "\n",
      "X:  tensor([[ 0.,  1.,  2.,  3.,  4.,  5.],\n",
      "        [18., 19., 20., 21., 22., 23.]], device='cuda:0') \n",
      "Y: tensor([[ 1.,  2.,  3.,  4.,  5.,  6.],\n",
      "        [19., 20., 21., 22., 23., 24.]], device='cuda:0') \n",
      "\n"
     ]
    }
   ],
   "source": [
    "my_seq = list(range(30))\n",
    "for X, Y in data_iter_random(my_seq, batch_size=2, num_steps=6):\n",
    "    print('X: ', X, '\\nY:', Y, '\\n')"
   ]
  },
  {
   "cell_type": "markdown",
   "id": "eb4b2143",
   "metadata": {},
   "source": [
    "### 相邻采样\n",
    "当多个相邻小批量通过传递隐藏状态串联起来时，模型参数的梯度计算将依赖所有串联起来的小批量序列。同一迭代周期中，随着迭代次数的增加，梯度的计算开销会越来越大。 为了使模型参数的梯度计算只依赖一次迭代读取的小批量序列，我们可以在每次读取小批量前将隐藏状态从计算图中分离出来。我们将在下一节（循环神经网络的从零开始实现）的实现中了解这种处理方式。"
   ]
  },
  {
   "cell_type": "code",
   "execution_count": 11,
   "id": "a53170cf",
   "metadata": {
    "ExecuteTime": {
     "end_time": "2021-12-08T06:11:20.126909Z",
     "start_time": "2021-12-08T06:11:20.112946Z"
    }
   },
   "outputs": [],
   "source": [
    "def data_iter_consecutive(corpus_indices, batch_size, num_steps, device=None):\n",
    "    if device == None:\n",
    "        device = torch.device('cuda' if torch.cuda.is_available() else 'cpu')\n",
    "    corpus_indices = torch.tensor(corpus_indices, dtype=torch.float32, device=device)\n",
    "    data_len = len(corpus_indices)\n",
    "    batch_len = data_len // batch_size\n",
    "    indices = corpus_indices[0: batch_size*batch_len].view(batch_size, batch_len)\n",
    "    epoch_size = (batch_len - 1)  // num_steps\n",
    "    for i in range(epoch_size):\n",
    "        i = i * num_steps\n",
    "        X = indices[:, i:i+num_steps]\n",
    "        Y = indices[:, i+1 : i+num_steps+1]\n",
    "        yield X, Y"
   ]
  },
  {
   "cell_type": "code",
   "execution_count": 12,
   "id": "3c815220",
   "metadata": {
    "ExecuteTime": {
     "end_time": "2021-12-08T06:11:20.142866Z",
     "start_time": "2021-12-08T06:11:20.128905Z"
    }
   },
   "outputs": [
    {
     "name": "stdout",
     "output_type": "stream",
     "text": [
      "X:  tensor([[ 0.,  1.,  2.,  3.,  4.,  5.],\n",
      "        [15., 16., 17., 18., 19., 20.]], device='cuda:0') \n",
      "Y: tensor([[ 1.,  2.,  3.,  4.,  5.,  6.],\n",
      "        [16., 17., 18., 19., 20., 21.]], device='cuda:0') \n",
      "\n",
      "X:  tensor([[ 6.,  7.,  8.,  9., 10., 11.],\n",
      "        [21., 22., 23., 24., 25., 26.]], device='cuda:0') \n",
      "Y: tensor([[ 7.,  8.,  9., 10., 11., 12.],\n",
      "        [22., 23., 24., 25., 26., 27.]], device='cuda:0') \n",
      "\n"
     ]
    }
   ],
   "source": [
    "#同样的设置下，打印相邻采样每次读取的小批量样本的输入X和标签Y。\n",
    "#相邻的两个随机小批量在原始序列上的位置相毗邻\n",
    "for X, Y in data_iter_consecutive(my_seq, batch_size=2, num_steps=6):\n",
    "    print('X: ', X, '\\nY:', Y, '\\n')"
   ]
  },
  {
   "cell_type": "markdown",
   "id": "16ed10c9",
   "metadata": {},
   "source": [
    "# 循环神经网络从零开始实现"
   ]
  },
  {
   "cell_type": "code",
   "execution_count": 13,
   "id": "a5e7c268",
   "metadata": {
    "ExecuteTime": {
     "end_time": "2021-12-08T06:11:20.158823Z",
     "start_time": "2021-12-08T06:11:20.143865Z"
    }
   },
   "outputs": [],
   "source": [
    "device = torch.device('cuda' if torch.cuda.is_available() else 'cpu')\n",
    "\n",
    "(corpus_indices, char_to_idx, idx_to_char, vocab_size) = load_data_jay_lyrics()"
   ]
  },
  {
   "cell_type": "markdown",
   "id": "b8ee339f",
   "metadata": {},
   "source": [
    "## one-hot向量"
   ]
  },
  {
   "cell_type": "code",
   "execution_count": 14,
   "id": "d53715a1",
   "metadata": {
    "ExecuteTime": {
     "end_time": "2021-12-08T06:11:20.173784Z",
     "start_time": "2021-12-08T06:11:20.159822Z"
    }
   },
   "outputs": [
    {
     "data": {
      "text/plain": [
       "tensor([[1., 0., 0.,  ..., 0., 0., 0.],\n",
       "        [0., 0., 1.,  ..., 0., 0., 0.]], device='cuda:0')"
      ]
     },
     "execution_count": 14,
     "metadata": {},
     "output_type": "execute_result"
    }
   ],
   "source": [
    "def one_hot(x, n_class, dtype=torch.float32, device=None):\n",
    "    if device == None:\n",
    "        device = 'cuda' if torch.cuda.is_available() else 'cpu'\n",
    "    x = x.long().to(device)\n",
    "    res = torch.zeros(x.shape[0], n_class, dtype=dtype, device=device)\n",
    "    res.scatter_(1, x.view(-1, 1), 1)\n",
    "    return res\n",
    "\n",
    "x = torch.tensor([0, 2])\n",
    "one_hot(x, vocab_size)"
   ]
  },
  {
   "cell_type": "code",
   "execution_count": 15,
   "id": "fed140d4",
   "metadata": {
    "ExecuteTime": {
     "end_time": "2021-12-08T06:11:20.189741Z",
     "start_time": "2021-12-08T06:11:20.174782Z"
    }
   },
   "outputs": [
    {
     "name": "stdout",
     "output_type": "stream",
     "text": [
      "5 torch.Size([2, 1027])\n"
     ]
    }
   ],
   "source": [
    "def to_onehot(X, n_class):\n",
    "    return [one_hot(X[:,i], n_class) for i in range(X.shape[1])]\n",
    "#感觉这里列变成了样本号，行变成了特征，转置了\n",
    "X = torch.arange(10).view(2, 5)\n",
    "inputs = to_onehot(X, vocab_size)\n",
    "print(len(inputs), inputs[0].shape)"
   ]
  },
  {
   "cell_type": "markdown",
   "id": "647af8da",
   "metadata": {},
   "source": [
    "## 初始化模型参数"
   ]
  },
  {
   "cell_type": "code",
   "execution_count": 16,
   "id": "532f3d2e",
   "metadata": {
    "ExecuteTime": {
     "end_time": "2021-12-08T06:11:20.205698Z",
     "start_time": "2021-12-08T06:11:20.190739Z"
    }
   },
   "outputs": [
    {
     "name": "stdout",
     "output_type": "stream",
     "text": [
      "will use cuda\n"
     ]
    }
   ],
   "source": [
    "num_inputs, num_hiddens, num_outputs = vocab_size, 256, vocab_size\n",
    "print('will use', device)\n",
    "def get_params():\n",
    "    def _one(shape):\n",
    "        ts = torch.tensor(np.random.normal(0, 0.01, size=shape), device=device, dtype=torch.float32)\n",
    "        return torch.nn.Parameter(ts,  requires_grad=True)\n",
    "    \n",
    "    #隐藏层参数\n",
    "    W_xh = _one((num_inputs, num_hiddens))\n",
    "    W_hh = _one((num_hiddens, num_hiddens))\n",
    "    b_h = torch.nn.Parameter(torch.zeros(num_hiddens, device=device, requires_grad=True))\n",
    "    #输出层参数\n",
    "    W_hq = _one((num_hiddens,num_outputs))\n",
    "    b_q = torch.nn.Parameter(torch.zeros(num_outputs, device=device, requires_grad=True))\n",
    "    \n",
    "    return nn.ParameterList([W_xh, W_hh, b_h, W_hq, b_q])"
   ]
  },
  {
   "cell_type": "markdown",
   "id": "5d649aed",
   "metadata": {},
   "source": [
    "## 定义模型\n",
    "首先定义init_rnn_state函数来返回初始化的隐藏状态。它返回由一个形状为(批量大小, 隐藏单元个数)的值为0的NDArray组成的元组。使用元组是为了更便于处理隐藏状态含有多个NDArray的情况。"
   ]
  },
  {
   "cell_type": "code",
   "execution_count": 17,
   "id": "fe0915b9",
   "metadata": {
    "ExecuteTime": {
     "end_time": "2021-12-08T06:11:20.220660Z",
     "start_time": "2021-12-08T06:11:20.206696Z"
    }
   },
   "outputs": [],
   "source": [
    "def init_rnn_state(batch_size, num_hiddens, device):\n",
    "    return (torch.zeros((batch_size, num_hiddens), device=device), )"
   ]
  },
  {
   "cell_type": "markdown",
   "id": "1644470f",
   "metadata": {},
   "source": [
    "下面的rnn函数定义了在一个时间步里如何计算隐藏状态和输出。这里的激活函数使用了tanh函数"
   ]
  },
  {
   "cell_type": "code",
   "execution_count": 18,
   "id": "bea8cfcf",
   "metadata": {
    "ExecuteTime": {
     "end_time": "2021-12-08T06:11:20.236643Z",
     "start_time": "2021-12-08T06:11:20.222654Z"
    }
   },
   "outputs": [],
   "source": [
    "def rnn(inputs, state, params):\n",
    "    W_xh, W_hh, b_h, W_hq, b_q = params\n",
    "    H, = state\n",
    "    outputs = []\n",
    "    for X in inputs:\n",
    "        H = torch.tanh(torch.mm(X, W_xh) + torch.mm(H, W_hh) + b_h)\n",
    "        Y = torch.matmul(H, W_hq) + b_q\n",
    "        outputs.append(Y)\n",
    "    return outputs, (H,)"
   ]
  },
  {
   "cell_type": "code",
   "execution_count": 19,
   "id": "1b1239e8",
   "metadata": {
    "ExecuteTime": {
     "end_time": "2021-12-08T06:11:20.544514Z",
     "start_time": "2021-12-08T06:11:20.237612Z"
    }
   },
   "outputs": [
    {
     "name": "stdout",
     "output_type": "stream",
     "text": [
      "5 torch.Size([2, 1027]) torch.Size([2, 256])\n"
     ]
    }
   ],
   "source": [
    "#做个简单的测试来观察输出结果的个数（时间步数），以及第一个时间步的输出层输出的形状和隐藏状态的形状。\n",
    "state = init_rnn_state(X.shape[0], num_hiddens, device)\n",
    "inputs = to_onehot(X.to(device), vocab_size)\n",
    "params = get_params()\n",
    "outputs, state_new = rnn(inputs, state, params)\n",
    "print(len(outputs), outputs[0].shape, state_new[0].shape)"
   ]
  },
  {
   "cell_type": "markdown",
   "id": "ca061345",
   "metadata": {},
   "source": [
    "## 定义预测函数\n",
    "以下函数基于前缀prefix（含有数个字符的字符串）来预测接下来的num_chars个字符。这个函数稍显复杂，其中我们将循环神经单元rnn设置成了函数参数，这样在后面小节介绍其他循环神经网络时能重复使用这个函数。"
   ]
  },
  {
   "cell_type": "code",
   "execution_count": 20,
   "id": "4d2a2004",
   "metadata": {
    "ExecuteTime": {
     "end_time": "2021-12-08T06:11:20.559473Z",
     "start_time": "2021-12-08T06:11:20.545511Z"
    }
   },
   "outputs": [],
   "source": [
    "def predict_rnn(prefix, num_chars, rnn, params, init_rnn_state,\n",
    "               num_hiddens, vocab_size, device, idx_to_char, char_to_idx):\n",
    "    state = init_rnn_state(1, num_hiddens, device)\n",
    "    output = [char_to_idx[prefix[0]]]\n",
    "    for t in range(num_chars + len(prefix) - 1):\n",
    "        # 将上一时间步的输出作为当前时间步的输入\n",
    "        X = to_onehot(torch.tensor([[output[-1]]], device=device), vocab_size)\n",
    "        # 计算输出和更新隐藏状态\n",
    "        (Y, state) = rnn(X, state, params)\n",
    "        # 下一个时间步的输入是prefix里的字符或者当前的最佳预测字符\n",
    "        if t < len(prefix) - 1:\n",
    "            output.append(char_to_idx[prefix[t+1]])\n",
    "        else:\n",
    "            output.append(int(Y[0].argmax(dim=1).item()))\n",
    "    return ''.join([idx_to_char[i] for i in output])"
   ]
  },
  {
   "cell_type": "code",
   "execution_count": 21,
   "id": "75a285fc",
   "metadata": {
    "ExecuteTime": {
     "end_time": "2021-12-08T06:11:20.575431Z",
     "start_time": "2021-12-08T06:11:20.560471Z"
    }
   },
   "outputs": [
    {
     "data": {
      "text/plain": [
       "'分开花脸昨值祷丁风距宇横'"
      ]
     },
     "execution_count": 21,
     "metadata": {},
     "output_type": "execute_result"
    }
   ],
   "source": [
    "predict_rnn('分开', 10, rnn, params, init_rnn_state, num_hiddens, vocab_size,\n",
    "            device, idx_to_char, char_to_idx)"
   ]
  },
  {
   "cell_type": "markdown",
   "id": "57aa711c",
   "metadata": {},
   "source": [
    "## 裁剪梯度\n",
    "循环神经网络中较容易出现梯度衰减或梯度爆炸，我们可以裁剪梯度（clip gradient）。假设我们把所有模型参数梯度的元素拼接成一个向量 g，并设裁剪的阈值是θ。\n",
    "裁剪后为$ \\min(\\frac{\\theta}{||\\boldsymbol{g}||},1) \\boldsymbol{g}，$"
   ]
  },
  {
   "cell_type": "code",
   "execution_count": 22,
   "id": "24d8983f",
   "metadata": {
    "ExecuteTime": {
     "end_time": "2021-12-08T06:11:20.591388Z",
     "start_time": "2021-12-08T06:11:20.576428Z"
    }
   },
   "outputs": [],
   "source": [
    "def grad_clipping(params, theta, device):\n",
    "    norm = torch.tensor([0.0], device=device)\n",
    "    for param in params:\n",
    "        norm += (param.grad.data ** 2).sum()\n",
    "    norm = norm.sqrt().item()\n",
    "    if norm > theta:\n",
    "        for param in params:\n",
    "            param.grad.data *= (theta / norm)"
   ]
  },
  {
   "cell_type": "markdown",
   "id": "1d63ccc4",
   "metadata": {},
   "source": [
    "## 困惑度\n",
    "我们通常使用困惑度（perplexity）来评价语言模型的好坏。回忆一下3.4节（softmax回归）中交叉熵损失函数的定义。困惑度是对交叉熵损失函数做指数运算后得到的值。特别地，\n",
    "\n",
    "+ 最佳情况下，模型总是把标签类别的概率预测为1，此时困惑度为1； \n",
    "+ 最坏情况下，模型总是把标签类别的概率预测为0，此时困惑度为正无穷； \n",
    "+ 基线情况下，模型总是预测所有类别的概率都相同，此时困惑度为类别个数。 \n",
    "\n",
    "显然，任何一个有效模型的困惑度必须小于类别个数。在本例中，困惑度必须小于词典大小vocab_size。"
   ]
  },
  {
   "cell_type": "markdown",
   "id": "0aad22d1",
   "metadata": {},
   "source": [
    "## 定义模型训练函数\n",
    "这里的模型训练函数有以下几点不同：\n",
    "\n",
    "1) 使用困惑度评价模型。 \n",
    "\n",
    "2) 在迭代模型参数前裁剪梯度。\n",
    "\n",
    "3) 对时序数据采用不同采样方法将导致隐藏状态初始化的不同。"
   ]
  },
  {
   "cell_type": "code",
   "execution_count": 23,
   "id": "539c1ad3",
   "metadata": {
    "ExecuteTime": {
     "end_time": "2021-12-08T06:11:20.606354Z",
     "start_time": "2021-12-08T06:11:20.594380Z"
    }
   },
   "outputs": [],
   "source": [
    "def train_and_predict_rnn(rnn, get_params, init_rnn_state, num_hiddens,\n",
    "                         vocab_size, device, corpus_indices, idx_to_char,\n",
    "                         char_to_idx, is_random_iter, num_epochs, num_steps,\n",
    "                         lr, clipping_theta, batch_size, pred_period,\n",
    "                         pred_len, prefixes):\n",
    "    if is_random_iter:\n",
    "        data_iter_fn = data_iter_random\n",
    "    else:\n",
    "        data_iter_fn = data_iter_consecutive\n",
    "    params = get_params()\n",
    "    loss = nn.CrossEntropyLoss()\n",
    "    for epoch in range(num_epochs):\n",
    "        if not is_random_iter: #使用随机采样，每次初始化隐藏状态\n",
    "            state = init_rnn_state(batch_size, num_hiddens, device)\n",
    "        l_sum, n, start = 0.0, 0, time.time()\n",
    "        data_iter = data_iter_fn(corpus_indices, batch_size, num_steps, device)\n",
    "        for X, Y in data_iter:\n",
    "            if is_random_iter:\n",
    "                state = init_rnn_state(batch_size, num_hiddens, device) \n",
    "            else:\n",
    "            # 相邻采样需要使用detach函数从计算图分离隐藏状态, 这是为了\n",
    "            # 使模型参数的梯度计算只依赖一次迭代读取的小批量序列(防止梯度计算开销太大)\n",
    "                for s in state:\n",
    "                    s.detach()\n",
    "            inputs = to_onehot(X, vocab_size)\n",
    "            (outputs, state) = rnn(inputs, state, params)\n",
    "            outputs = torch.cat(outputs, dim=0)\n",
    "            y = torch.transpose(Y, 0, 1).contiguous().view(-1)\n",
    "            l = loss(outputs, y.long())\n",
    "            \n",
    "            if params[0].grad is not None:\n",
    "                for param in params:\n",
    "                    param.grad.data.zero_()\n",
    "            l.backward()\n",
    "            grad_clipping(params, clipping_theta, device)\n",
    "            sgd(params, lr, 1)\n",
    "            l_sum += l.item() * y.shape[0]\n",
    "            n += y.shape[0]\n",
    "        if (epoch + 1) % pred_period == 0:\n",
    "            print('epoch %d, perplexity %f, time %.2f sec' % (\n",
    "                epoch + 1, math.exp(l_sum / n), time.time() - start))\n",
    "            for prefix in prefixes:\n",
    "                print(' -', predict_rnn(prefix, pred_len, rnn, params, init_rnn_state,\n",
    "                    num_hiddens, vocab_size, device, idx_to_char, char_to_idx))"
   ]
  },
  {
   "cell_type": "markdown",
   "id": "6dc11808",
   "metadata": {},
   "source": [
    "## 训练模型并创作歌词"
   ]
  },
  {
   "cell_type": "code",
   "execution_count": 24,
   "id": "cf56ee61",
   "metadata": {
    "ExecuteTime": {
     "end_time": "2021-12-08T06:11:20.621879Z",
     "start_time": "2021-12-08T06:11:20.608343Z"
    }
   },
   "outputs": [],
   "source": [
    "num_epochs, num_steps, batch_size, lr, clipping_theta = 250, 35, 32, 1e2, 1e-2\n",
    "pred_period, pred_len, prefixes = 50, 50, ['分开', '不分开']"
   ]
  },
  {
   "cell_type": "code",
   "execution_count": 25,
   "id": "aa10a743",
   "metadata": {
    "ExecuteTime": {
     "end_time": "2021-12-08T06:11:57.183381Z",
     "start_time": "2021-12-08T06:11:20.622876Z"
    }
   },
   "outputs": [
    {
     "name": "stdout",
     "output_type": "stream",
     "text": [
      "epoch 50, perplexity 69.576531, time 0.15 sec\n",
      " - 分开 我想要你想你 想知 你想你这 我想想你 你小了你 你的让我 你的让我 你的可爱女人  坏的让我疯狂\n",
      " - 不分开 我想想你想你 想知 我想你这想你 不知你的你不 我 想你你你 你的让我 我的可我 你的可爱女人  \n",
      "epoch 100, perplexity 9.622164, time 0.14 sec\n",
      " - 分开 一直的美栈人 连有哈我的朋据 我想店的爱写有西元前 深埋在美索不达米亚 原真中 融始共 一九四有 \n",
      " - 不分开吗 我不要再想你 不知不觉 你已经离开我 不知不觉 我已经这节我 不知不觉 你已经离不我 不知不觉 \n",
      "epoch 150, perplexity 2.916980, time 0.15 sec\n",
      " - 分开 快使用双 在小村外 恨给的梦  我的从界 我听多烦 你你在空 我的放空 恨我不外 说你没用 我的没\n",
      " - 不分开简 我的你以多 几色的美丽 谁分在美 相小了空屋 白慢蜡烛 温暖了日屋 白色蜡烛 温暖了日屋 白色蜡\n",
      "epoch 200, perplexity 1.580704, time 0.16 sec\n",
      " - 分开 快使用双截过 哼哼哈兮 快使用双截棍 哼哼哈兮 习武之人切记 仁者无敌 是谁在练太极 风生水起 快\n",
      " - 不分开扫把的胖女巫 用拉丁文念咒语啦啦呜 她养的黑猫笑起来像哭 啦啦啦呜 一颗我怀手为猜透 心必让一个人慢\n",
      "epoch 250, perplexity 1.312417, time 0.14 sec\n",
      " - 分开 一使用双拳 还一拳在身边的让尾蛇 无力像猫的狗 印地安老斑鸠 平常话不多 除非是乌鸦抢了它的窝 它\n",
      " - 不分开期 然后将过去 慢慢温习 让我爱上你 那场悲剧 是你完美演出的一场戏 宁愿心碎哭泣 再狠狠忘记 你爱\n"
     ]
    }
   ],
   "source": [
    "train_and_predict_rnn(rnn, get_params, init_rnn_state, num_hiddens,\n",
    "                      vocab_size, device, corpus_indices, idx_to_char,\n",
    "                      char_to_idx, True, num_epochs, num_steps, lr,\n",
    "                      clipping_theta, batch_size, pred_period, pred_len,\n",
    "                      prefixes)"
   ]
  },
  {
   "cell_type": "markdown",
   "id": "4be9b72f",
   "metadata": {},
   "source": [
    "# 循环网络的简洁实现"
   ]
  },
  {
   "cell_type": "markdown",
   "id": "ebd836ec",
   "metadata": {},
   "source": [
    "## 定义模型\n",
    "rnn_layer作为nn.RNN实例，在前向计算后会分别返回输出和隐藏状态h，其中输出指的是隐藏层在各个时间步上计算并输出的隐藏状态，它们通常作为后续输出层的输入。"
   ]
  },
  {
   "cell_type": "code",
   "execution_count": 26,
   "id": "a2433ae0",
   "metadata": {
    "ExecuteTime": {
     "end_time": "2021-12-08T06:11:57.199338Z",
     "start_time": "2021-12-08T06:11:57.184379Z"
    }
   },
   "outputs": [],
   "source": [
    "num_hiddens = 256\n",
    "rnn_layer = nn.RNN(input_size=vocab_size, hidden_size=num_hiddens)"
   ]
  },
  {
   "cell_type": "code",
   "execution_count": 27,
   "id": "3119ed33",
   "metadata": {
    "ExecuteTime": {
     "end_time": "2021-12-08T06:11:57.214298Z",
     "start_time": "2021-12-08T06:11:57.200334Z"
    }
   },
   "outputs": [
    {
     "name": "stdout",
     "output_type": "stream",
     "text": [
      "torch.Size([35, 2, 256]) 1 torch.Size([2, 256])\n"
     ]
    }
   ],
   "source": [
    "num_steps = 35\n",
    "batch_size = 2\n",
    "state = None\n",
    "X = torch.rand(num_steps, batch_size, vocab_size)\n",
    "Y, state_new = rnn_layer(X, state)\n",
    "print(Y.shape, len(state_new), state_new[0].shape)"
   ]
  },
  {
   "cell_type": "code",
   "execution_count": 28,
   "id": "3877073d",
   "metadata": {
    "ExecuteTime": {
     "end_time": "2021-12-08T06:11:57.230254Z",
     "start_time": "2021-12-08T06:11:57.215295Z"
    }
   },
   "outputs": [],
   "source": [
    "class RNNModel(nn.Module):\n",
    "    def __init__(self, rnn_layer, vocab_size):\n",
    "        super(RNNModel, self).__init__()\n",
    "        self.rnn = rnn_layer\n",
    "        self.hidden_size = rnn_layer.hidden_size* (2 if rnn_layer.bidirectional else 1)\n",
    "        self.vocab_size = vocab_size\n",
    "        self.dense = nn.Linear(self.hidden_size, vocab_size)\n",
    "        self.state = None\n",
    "    \n",
    "    def forward(self, inputs, state):\n",
    "        X = to_onehot(inputs, self.vocab_size)\n",
    "        Y, self.state = self.rnn(torch.stack(X), state)\n",
    "        output = self.dense(Y.view(-1, Y.shape[-1]))\n",
    "        return output, self.state"
   ]
  },
  {
   "cell_type": "markdown",
   "id": "c37c711b",
   "metadata": {},
   "source": [
    "## 训练模型"
   ]
  },
  {
   "cell_type": "code",
   "execution_count": 29,
   "id": "9e4deacf",
   "metadata": {
    "ExecuteTime": {
     "end_time": "2021-12-08T06:11:57.261172Z",
     "start_time": "2021-12-08T06:11:57.231253Z"
    }
   },
   "outputs": [],
   "source": [
    "def predict_rnn_pytorch(prefix, num_chars, model, vocab_size, device, idx_to_char,\n",
    "                        char_to_idx):\n",
    "    state = None\n",
    "    #output会记录prefix加上输出\n",
    "    output = [char_to_idx[prefix[0]]] \n",
    "    for t in range(num_chars + len(prefix)-1):\n",
    "        X = torch.tensor([output[-1]], device=device).view(1,1)\n",
    "        if state is not None:\n",
    "            if isinstance(state, tuple):\n",
    "                state = (state[0].to(device), state[1].to(device))\n",
    "            else:\n",
    "                state = state.to(device)\n",
    "        (Y, state) = model(X, state)\n",
    "        if t < len(prefix) -1:\n",
    "            output.append(char_to_idx[prefix[t+1]])\n",
    "        else:\n",
    "            output.append(int(Y.argmax(dim=1).item()))\n",
    "    return ''.join([idx_to_char[i] for i in output])"
   ]
  },
  {
   "cell_type": "code",
   "execution_count": 30,
   "id": "4a33583b",
   "metadata": {
    "ExecuteTime": {
     "end_time": "2021-12-08T06:11:57.634011Z",
     "start_time": "2021-12-08T06:11:57.262171Z"
    }
   },
   "outputs": [
    {
     "data": {
      "text/plain": [
       "'分开公撒撒撒撒撒撒撒撒撒'"
      ]
     },
     "execution_count": 30,
     "metadata": {},
     "output_type": "execute_result"
    }
   ],
   "source": [
    "model = RNNModel(rnn_layer, vocab_size).to(device)\n",
    "predict_rnn_pytorch('分开', 10, model, vocab_size, device, idx_to_char, char_to_idx)"
   ]
  },
  {
   "cell_type": "code",
   "execution_count": 31,
   "id": "448fe1ec",
   "metadata": {
    "ExecuteTime": {
     "end_time": "2021-12-08T06:11:57.648971Z",
     "start_time": "2021-12-08T06:11:57.635009Z"
    }
   },
   "outputs": [],
   "source": [
    "#训练模型\n",
    "def train_and_predict_rnn_pytorch(model, num_hiddens, vocab_size, device,\n",
    "                                corpus_indices, idx_to_char, char_to_idx,\n",
    "                                num_epochs, num_steps, lr, clipping_theta,\n",
    "                                batch_size, pred_period, pred_len, prefixes):\n",
    "    loss = nn.CrossEntropyLoss()\n",
    "    optimizer = torch.optim.Adam(model.parameters(), lr=lr)\n",
    "    model.to(device)\n",
    "    state = None\n",
    "    for epoch in range(num_epochs):\n",
    "        l_sum, n, start = 0.0, 0, time.time()\n",
    "        data_iter = data_iter_consecutive(corpus_indices, batch_size, num_steps, device)\n",
    "        for X, Y in data_iter:\n",
    "            if state is not None:\n",
    "                if isinstance(state, tuple):\n",
    "                    state = (state[0].detach(), state[1].detach())\n",
    "                else:\n",
    "                    state = state.detach()\n",
    "            (output,state) = model(X, state)\n",
    "            \n",
    "            y = torch.transpose(Y, 0, 1).contiguous().view(-1)\n",
    "            l = loss(output, y.long())\n",
    "            \n",
    "            optimizer.zero_grad()\n",
    "            l.backward()\n",
    "            grad_clipping(model.parameters(), clipping_theta, device)\n",
    "            optimizer.step()\n",
    "            l_sum += l.item() * y.shape[0]\n",
    "            n += y.shape[0]\n",
    "        \n",
    "        try:\n",
    "            perplexity = math.exp(l_sum / n)\n",
    "        except OverflowError:\n",
    "            perplexity = float('inf')\n",
    "        if (epoch + 1) % pred_period == 0:\n",
    "            print('epoch %d, perplexity %f, time %.2f sec' % (\n",
    "                epoch + 1, perplexity, time.time() - start))\n",
    "            for prefix in prefixes:\n",
    "                print(' -', predict_rnn_pytorch(\n",
    "                    prefix, pred_len, model, vocab_size, device, idx_to_char,\n",
    "                    char_to_idx))"
   ]
  },
  {
   "cell_type": "code",
   "execution_count": null,
   "id": "9e0913b9",
   "metadata": {
    "ExecuteTime": {
     "start_time": "2021-12-08T06:11:18.692Z"
    }
   },
   "outputs": [
    {
     "name": "stdout",
     "output_type": "stream",
     "text": [
      "epoch 50, perplexity 8.218603, time 0.07 sec\n",
      " - 分开始我面 娘子 娘子依人的江南等我 泪不休 语沉默 娘子我人在江南 我 能发抖 我给你的生活  想要你\n",
      " - 不分开 我不能再想 我不要再想 我不 我不 我不 我不能再想 我不能再不 我不 再不 我不能再爱 我不能再\n",
      "epoch 100, perplexity 1.243455, time 0.07 sec\n",
      " - 分开始我呼妈习惯 我给了这样打我妈妈 不要再想你我不要再想 我不 我不 我不要再想你 爱情来的太快就像龙\n",
      " - 不分开 我有多的纵  试上文字刻下了的那里我感轻够的落肉 我说店小二 三两银够不够 景色入秋 漫天黄沙凉过\n",
      "epoch 150, perplexity 1.061572, time 0.07 sec\n",
      " - 分开 我不能再想 我不要再想 我不知我  你爱啊  我想了你了它我不要再想你 我有多 难你 没有你 我有\n",
      " - 不分开  我不著空 一片在梦里 在感动的穿爱女人的坏坏的让我疯狂的可爱女人 坏坏的让我疯狂的可爱女人 漂亮\n",
      "epoch 200, perplexity 1.033613, time 0.07 sec\n",
      " - 分开 我不能再想 我不知不觉 你已经离开我 不知不觉 我跟了这节奏 后知后觉 又过了一个秋 后知后觉 我\n",
      " - 不分开  太多的空 一句的事 在回忆  牵在你在人 漂的还爱女人 坏坏的让我疯狂的可爱女人 坏坏的让我疯狂\n",
      "epoch 250, perplexity 1.022081, time 0.08 sec\n",
      " - 分开 我不能再平 我不能 想要阻却陪我不的牛肉 我说店小二 三两银够不够 景色入秋 漫天黄沙凉过 塞北的\n",
      " - 不分开  又不放开  能知道觉 我该好好生活 我想要和说你眼睛知道我 是可爱让我不能的可爱你人 坏坏的让我\n",
      "epoch 300, perplexity 1.015432, time 0.07 sec\n",
      " - 分开 我不知不觉 我已经离开我 不知不觉 我跟了这节奏 后知后觉 又过了一个秋 后知后觉 我该好好生活 \n",
      " - 不分开  又不放开 我有一可爱的我妈妈说原来我只想你我 陪我你看棒球 想这样没担忧 唱着歌 一直走 我想就\n",
      "epoch 350, perplexity 1.019225, time 0.07 sec\n",
      " - 分开 我不知不觉 我跟了这节奏 后知后觉 又过了一个秋 后知后觉 我该好好生活 我该好好生活 静静悄悄默\n",
      " - 不分开  又不放开 我能再回忆 我的那物线 跟后的没有 有后条着 有一两对三妈妈斗 看棒球 想这样没担忧 \n",
      "epoch 400, perplexity 1.012237, time 0.07 sec\n",
      " - 分开 我不知不觉 我跟了这节奏 后知后觉 又过了一个秋 后知后觉 我该好好生活 我该好好生活 静静悄悄默\n",
      " - 不分开  什么不妥 有话就直说 别窝在角落 不爽就反驳 到底拽什么 懂不懂篮球 有种不要走 三对三斗牛 三\n"
     ]
    }
   ],
   "source": [
    "#上一节实验中一样的超参数（除了学习率）来训练模型\n",
    "num_epochs, batch_size, lr, clipping_theta = 550, 32, 1e-3, 1e-2 # 注意这里的学习率设置\n",
    "pred_period, pred_len, prefixes = 50, 50, ['分开', '不分开']\n",
    "train_and_predict_rnn_pytorch(model, num_hiddens, vocab_size, device,\n",
    "                            corpus_indices, idx_to_char, char_to_idx,\n",
    "                            num_epochs, num_steps, lr, clipping_theta,\n",
    "                            batch_size, pred_period, pred_len, prefixes)"
   ]
  },
  {
   "cell_type": "markdown",
   "id": "4ec4bbce",
   "metadata": {},
   "source": [
    "# 门控循环单元（GRU）\n",
    "它引入了重置门（reset gate）和更新门（update gate）的概念，从而修改了循环神经网络中隐藏状态的计算方式\n",
    "门控循环神经网络可以更好地捕捉时间序列中时间步距离较大的依赖关系。\n",
    "门控循环单元引入了门的概念，从而修改了循环神经网络中隐藏状态的计算方式。它包括重置门、更新门、候选隐藏状态和隐藏状态。  \n",
    "重置门有助于捕捉时间序列里短期的依赖关系。  \n",
    "更新门有助于捕捉时间序列里长期的依赖关系。  "
   ]
  },
  {
   "cell_type": "markdown",
   "id": "02b96e43",
   "metadata": {},
   "source": [
    "## 读取数据集"
   ]
  },
  {
   "cell_type": "code",
   "execution_count": null,
   "id": "92dd66c0",
   "metadata": {
    "ExecuteTime": {
     "start_time": "2021-12-08T06:11:18.742Z"
    }
   },
   "outputs": [],
   "source": [
    "device = torch.device('cuda' if torch.cuda.is_available() else 'cpu')\n",
    "\n",
    "(corpus_indices, char_to_idx, idx_to_char, vocab_size) = load_data_jay_lyrics()"
   ]
  },
  {
   "cell_type": "markdown",
   "id": "d23de8aa",
   "metadata": {},
   "source": [
    "## 从零开始实现"
   ]
  },
  {
   "cell_type": "code",
   "execution_count": null,
   "id": "50faa827",
   "metadata": {
    "ExecuteTime": {
     "start_time": "2021-12-08T06:11:18.768Z"
    }
   },
   "outputs": [],
   "source": [
    "num_inputs, num_hiddens, num_outputs = vocab_size, 256, vocab_size\n",
    "print('will use',device)\n",
    "\n",
    "def get_params():\n",
    "    def _one(shape):\n",
    "        ts = torch.tensor(np.random.normal(0, 0.01, size=shape), device=device, dtype=torch.float32)\n",
    "        return torch.nn.Parameter(ts, requires_grad=True)\n",
    "    def _three():\n",
    "        return (_one((num_inputs, num_hiddens)),\n",
    "                _one((num_hiddens, num_hiddens)),\n",
    "                torch.nn.Parameter(torch.zeros(num_hiddens, device=device, dtype=torch.float32), requires_grad=True))\n",
    "\n",
    "    W_xz, W_hz, b_z = _three()  # 更新门参数\n",
    "    W_xr, W_hr, b_r = _three()  # 重置门参数\n",
    "    W_xh, W_hh, b_h = _three()  # 候选隐藏状态参数\n",
    "\n",
    "    # 输出层参数\n",
    "    W_hq = _one((num_hiddens, num_outputs))\n",
    "    b_q = torch.nn.Parameter(torch.zeros(num_outputs, device=device, dtype=torch.float32), requires_grad=True)\n",
    "    return nn.ParameterList([W_xz, W_hz, b_z, W_xr, W_hr, b_r, W_xh, W_hh, b_h, W_hq, b_q])"
   ]
  },
  {
   "cell_type": "markdown",
   "id": "91f987d5",
   "metadata": {},
   "source": [
    "### 定义模型"
   ]
  },
  {
   "cell_type": "code",
   "execution_count": null,
   "id": "505dedb4",
   "metadata": {
    "ExecuteTime": {
     "start_time": "2021-12-08T06:11:18.797Z"
    }
   },
   "outputs": [],
   "source": [
    "def init_gru_state(batch_size, num_hiddens, device):\n",
    "    return (torch.zeros((batch_size, num_hiddens), device=device))"
   ]
  },
  {
   "cell_type": "code",
   "execution_count": null,
   "id": "166778ce",
   "metadata": {
    "ExecuteTime": {
     "start_time": "2021-12-08T06:11:18.799Z"
    }
   },
   "outputs": [],
   "source": [
    "def gru(inputs, state, params):\n",
    "    W_xz, W_hz, b_z, W_xr, W_hr, b_r, W_xh, W_hh, b_h, W_hq, b_q = params\n",
    "    H = state\n",
    "    outputs = []\n",
    "    for X in inputs:\n",
    "        Z = torch.sigmoid(torch.mm(X, W_xz) + torch.mm(H, W_hz) + b_z)\n",
    "        R = torch.sigmoid(torch.mm(X, W_xr) + torch.mm(H, W_hr) + b_r)\n",
    "        H_tilda = torch.tanh(torch.matmul(X, W_xh) + torch.matmul(R * H, W_hh) + b_h)\n",
    "        H = Z * H + (1 - Z) * H_tilda\n",
    "        Y = torch.matmul(H, W_hq) + b_q\n",
    "        outputs.append(Y)\n",
    "    return outputs, (H,)\n"
   ]
  },
  {
   "cell_type": "code",
   "execution_count": null,
   "id": "7603de96",
   "metadata": {
    "ExecuteTime": {
     "start_time": "2021-12-08T06:11:18.800Z"
    }
   },
   "outputs": [],
   "source": [
    "num_epochs, num_steps, batch_size, lr, clipping_theta = 160, 35, 32, 1e2, 1e-2\n",
    "pred_period, pred_len, prefixes = 40, 50, ['分开', '不分开']"
   ]
  },
  {
   "cell_type": "code",
   "execution_count": null,
   "id": "0e21476a",
   "metadata": {
    "ExecuteTime": {
     "start_time": "2021-12-08T06:11:18.801Z"
    }
   },
   "outputs": [],
   "source": [
    "train_and_predict_rnn(gru, get_params, init_gru_state, num_hiddens,\n",
    "                          vocab_size, device, corpus_indices, idx_to_char,\n",
    "                          char_to_idx, False, num_epochs, num_steps, lr,\n",
    "                          clipping_theta, batch_size, pred_period, pred_len,\n",
    "                          prefixes)"
   ]
  },
  {
   "cell_type": "markdown",
   "id": "9099744a",
   "metadata": {},
   "source": [
    "## 简洁实现"
   ]
  },
  {
   "cell_type": "code",
   "execution_count": null,
   "id": "0858f0f9",
   "metadata": {
    "ExecuteTime": {
     "start_time": "2021-12-08T06:11:18.827Z"
    }
   },
   "outputs": [],
   "source": [
    "lr = 1e-2 # 注意调整学习率\n",
    "gru_layer = nn.GRU(input_size=vocab_size, hidden_size=num_hiddens)\n",
    "model = RNNModel(gru_layer, vocab_size).to(device)\n",
    "train_and_predict_rnn_pytorch(model, num_hiddens, vocab_size, device,\n",
    "                                corpus_indices, idx_to_char, char_to_idx,\n",
    "                                num_epochs, num_steps, lr, clipping_theta,\n",
    "                                batch_size, pred_period, pred_len, prefixes)\n"
   ]
  },
  {
   "cell_type": "code",
   "execution_count": null,
   "id": "2a0666c1",
   "metadata": {},
   "outputs": [],
   "source": []
  }
 ],
 "metadata": {
  "kernelspec": {
   "display_name": "Python 3",
   "language": "python",
   "name": "python3"
  },
  "language_info": {
   "codemirror_mode": {
    "name": "ipython",
    "version": 3
   },
   "file_extension": ".py",
   "mimetype": "text/x-python",
   "name": "python",
   "nbconvert_exporter": "python",
   "pygments_lexer": "ipython3",
   "version": "3.6.13"
  },
  "latex_envs": {
   "LaTeX_envs_menu_present": true,
   "autoclose": true,
   "autocomplete": true,
   "bibliofile": "biblio.bib",
   "cite_by": "apalike",
   "current_citInitial": 1,
   "eqLabelWithNumbers": true,
   "eqNumInitial": 1,
   "hotkeys": {
    "equation": "Ctrl-E",
    "itemize": "Ctrl-I"
   },
   "labels_anchors": false,
   "latex_user_defs": false,
   "report_style_numbering": false,
   "user_envs_cfg": false
  },
  "toc": {
   "base_numbering": 1,
   "nav_menu": {},
   "number_sections": true,
   "sideBar": true,
   "skip_h1_title": false,
   "title_cell": "Table of Contents",
   "title_sidebar": "Contents",
   "toc_cell": false,
   "toc_position": {
    "height": "calc(100% - 180px)",
    "left": "10px",
    "top": "150px",
    "width": "150.556px"
   },
   "toc_section_display": true,
   "toc_window_display": true
  },
  "varInspector": {
   "cols": {
    "lenName": 16,
    "lenType": 16,
    "lenVar": 40
   },
   "kernels_config": {
    "python": {
     "delete_cmd_postfix": "",
     "delete_cmd_prefix": "del ",
     "library": "var_list.py",
     "varRefreshCmd": "print(var_dic_list())"
    },
    "r": {
     "delete_cmd_postfix": ") ",
     "delete_cmd_prefix": "rm(",
     "library": "var_list.r",
     "varRefreshCmd": "cat(var_dic_list()) "
    }
   },
   "types_to_exclude": [
    "module",
    "function",
    "builtin_function_or_method",
    "instance",
    "_Feature"
   ],
   "window_display": false
  }
 },
 "nbformat": 4,
 "nbformat_minor": 5
}
