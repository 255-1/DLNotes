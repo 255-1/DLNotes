{
 "cells": [
  {
   "cell_type": "code",
   "execution_count": 1,
   "id": "d11c1b52",
   "metadata": {
    "ExecuteTime": {
     "end_time": "2021-12-04T13:25:06.752672Z",
     "start_time": "2021-12-04T13:25:06.067016Z"
    }
   },
   "outputs": [],
   "source": [
    "import torch\n",
    "from torch import nn"
   ]
  },
  {
   "cell_type": "code",
   "execution_count": 30,
   "id": "79863f66",
   "metadata": {
    "ExecuteTime": {
     "end_time": "2021-12-05T01:08:03.591835Z",
     "start_time": "2021-12-05T01:08:03.577508Z"
    }
   },
   "outputs": [],
   "source": [
    "def corr2d(X, K):  # 本函数已保存在d2lzh_pytorch包中方便以后使用\n",
    "    h, w = K.shape\n",
    "    Y = torch.zeros((X.shape[0] - h + 1, X.shape[1] - w + 1))\n",
    "    for i in range(Y.shape[0]):\n",
    "        for j in range(Y.shape[1]):\n",
    "            Y[i, j] = (X[i: i + h, j: j + w] * K).sum()\n",
    "    return Y"
   ]
  },
  {
   "cell_type": "markdown",
   "id": "d4c48454",
   "metadata": {},
   "source": [
    "# 二维卷积层"
   ]
  },
  {
   "cell_type": "markdown",
   "id": "100e36b2",
   "metadata": {},
   "source": [
    "## 二维互相关运算"
   ]
  },
  {
   "cell_type": "code",
   "execution_count": 3,
   "id": "8646ac8a",
   "metadata": {
    "ExecuteTime": {
     "end_time": "2021-12-04T13:25:06.784272Z",
     "start_time": "2021-12-04T13:25:06.770225Z"
    }
   },
   "outputs": [
    {
     "data": {
      "text/plain": [
       "tensor([[19., 25.],\n",
       "        [37., 43.]])"
      ]
     },
     "execution_count": 3,
     "metadata": {},
     "output_type": "execute_result"
    }
   ],
   "source": [
    "X = torch.tensor([[0, 1, 2], [3, 4, 5], [6, 7, 8]])\n",
    "K = torch.tensor([[0, 1], [2, 3]])\n",
    "corr2d(X, K)"
   ]
  },
  {
   "cell_type": "markdown",
   "id": "5ceba02b",
   "metadata": {},
   "source": [
    "## 二维卷积层"
   ]
  },
  {
   "cell_type": "code",
   "execution_count": 4,
   "id": "9567d0b2",
   "metadata": {
    "ExecuteTime": {
     "end_time": "2021-12-04T13:25:06.800112Z",
     "start_time": "2021-12-04T13:25:06.786226Z"
    }
   },
   "outputs": [],
   "source": [
    "#二维卷积层将输入和卷积核做互相关运算，并加上一个标量偏差来得到输出\n",
    "class Conv2D(nn.Module):\n",
    "    def __init__(self, kernel_size):\n",
    "        super(Conv2D, self).__init__()\n",
    "        self.weight = nn.Parameter(torch.randn(kernel_size))\n",
    "        self.bias = nn.Parameter(torch.zeros(1))\n",
    "\n",
    "    def forward(self, x):\n",
    "        return corr2d(x, self.weight) + self.bias\n"
   ]
  },
  {
   "cell_type": "markdown",
   "id": "21afb667",
   "metadata": {},
   "source": [
    "## 图像中物体边缘检测\n",
    "检测图像中物体的边缘，即找到像素变化的位置。首先我们构造一张6×86×8的图像（即高和宽分别为6像素和8像素的图像）。它中间4列为黑（0），其余为白（1）。"
   ]
  },
  {
   "cell_type": "code",
   "execution_count": 5,
   "id": "cea7efca",
   "metadata": {
    "ExecuteTime": {
     "end_time": "2021-12-04T13:25:06.815394Z",
     "start_time": "2021-12-04T13:25:06.802258Z"
    }
   },
   "outputs": [
    {
     "data": {
      "text/plain": [
       "tensor([[1., 1., 0., 0., 0., 0., 1., 1.],\n",
       "        [1., 1., 0., 0., 0., 0., 1., 1.],\n",
       "        [1., 1., 0., 0., 0., 0., 1., 1.],\n",
       "        [1., 1., 0., 0., 0., 0., 1., 1.],\n",
       "        [1., 1., 0., 0., 0., 0., 1., 1.],\n",
       "        [1., 1., 0., 0., 0., 0., 1., 1.]])"
      ]
     },
     "execution_count": 5,
     "metadata": {},
     "output_type": "execute_result"
    }
   ],
   "source": [
    "X = torch.ones(6, 8)\n",
    "X[:, 2:6] = 0\n",
    "X"
   ]
  },
  {
   "cell_type": "code",
   "execution_count": 6,
   "id": "f838a995",
   "metadata": {
    "ExecuteTime": {
     "end_time": "2021-12-04T13:25:06.831266Z",
     "start_time": "2021-12-04T13:25:06.817306Z"
    }
   },
   "outputs": [
    {
     "data": {
      "text/plain": [
       "tensor([[ 0.,  1.,  0.,  0.,  0., -1.,  0.],\n",
       "        [ 0.,  1.,  0.,  0.,  0., -1.,  0.],\n",
       "        [ 0.,  1.,  0.,  0.,  0., -1.,  0.],\n",
       "        [ 0.,  1.,  0.,  0.,  0., -1.,  0.],\n",
       "        [ 0.,  1.,  0.,  0.,  0., -1.,  0.],\n",
       "        [ 0.,  1.,  0.,  0.,  0., -1.,  0.]])"
      ]
     },
     "execution_count": 6,
     "metadata": {},
     "output_type": "execute_result"
    }
   ],
   "source": [
    "#构造一个高和宽分别为1和2的卷积核K。\n",
    "#当它与输入做互相关运算时，如果横向相邻元素相同，输出为0；否则输出为非0。\n",
    "K = torch.tensor([[1, -1]])\n",
    "#卷积层可通过重复使用卷积核有效地表征局部空间\n",
    "Y = corr2d(X, K)\n",
    "Y"
   ]
  },
  {
   "cell_type": "markdown",
   "id": "28aa2cbe",
   "metadata": {},
   "source": [
    "## 通过数据学习核数组\n",
    "网页版无法运行，使用官方教材内容"
   ]
  },
  {
   "cell_type": "code",
   "execution_count": 7,
   "id": "eddbed49",
   "metadata": {
    "ExecuteTime": {
     "end_time": "2021-12-04T13:25:06.863257Z",
     "start_time": "2021-12-04T13:25:06.832271Z"
    }
   },
   "outputs": [
    {
     "name": "stdout",
     "output_type": "stream",
     "text": [
      "Step 5, loss 0.537\n",
      "Step 10, loss 0.016\n",
      "Step 15, loss 0.001\n",
      "Step 20, loss 0.000\n"
     ]
    }
   ],
   "source": [
    "conv2d = nn.Conv2d(1,1,kernel_size=(1,2),bias=False)\n",
    "X = X.reshape((1,1,6,8))\n",
    "Y = Y.reshape((1,1,6,7))\n",
    "lr=3e-2\n",
    "for i in range(20):\n",
    "    Y_hat = conv2d(X)\n",
    "    l = (Y_hat - Y) ** 2\n",
    "    conv2d.zero_grad()\n",
    "    l.sum().backward()\n",
    "    conv2d.weight.data[:] -= lr*conv2d.weight.grad\n",
    "    if (i + 1) % 5 == 0:\n",
    "        print('Step %d, loss %.3f' % (i + 1, l.sum().item()))"
   ]
  },
  {
   "cell_type": "code",
   "execution_count": 8,
   "id": "f0fb9364",
   "metadata": {
    "ExecuteTime": {
     "end_time": "2021-12-04T13:25:06.878371Z",
     "start_time": "2021-12-04T13:25:06.865258Z"
    }
   },
   "outputs": [
    {
     "name": "stdout",
     "output_type": "stream",
     "text": [
      "weight:  tensor([[[[ 1.0010, -0.9987]]]])\n"
     ]
    }
   ],
   "source": [
    "print(\"weight: \", conv2d.weight.data)"
   ]
  },
  {
   "cell_type": "markdown",
   "id": "0de83c3b",
   "metadata": {},
   "source": [
    "# 填充和步幅"
   ]
  },
  {
   "cell_type": "markdown",
   "id": "fcfba836",
   "metadata": {},
   "source": [
    "## 填充\n",
    "我们会设置(拓宽数=核大小-1)来使输入和输出具有相同的高和宽。这样会方便在构造网络时推测每个层的输出形状"
   ]
  },
  {
   "cell_type": "code",
   "execution_count": 9,
   "id": "df82d255",
   "metadata": {
    "ExecuteTime": {
     "end_time": "2021-12-04T13:42:01.989644Z",
     "start_time": "2021-12-04T13:42:01.982677Z"
    }
   },
   "outputs": [],
   "source": [
    "# 定义一个函数来计算卷积层。它对输入和输出做相应的升维和降维\n",
    "def comp_conv2d(conv2d, X):\n",
    "    # (1, 1)代表批量大小和通道数均为1\n",
    "    X = X.view((1, 1) + X.shape)\n",
    "    Y = conv2d(X)\n",
    "    return Y.view(Y.shape[2:])  # 排除不关心的前两维：批量和通道"
   ]
  },
  {
   "cell_type": "code",
   "execution_count": 10,
   "id": "4e58311a",
   "metadata": {
    "ExecuteTime": {
     "end_time": "2021-12-04T13:44:02.674822Z",
     "start_time": "2021-12-04T13:44:02.658722Z"
    }
   },
   "outputs": [
    {
     "data": {
      "text/plain": [
       "torch.Size([8, 8])"
      ]
     },
     "execution_count": 10,
     "metadata": {},
     "output_type": "execute_result"
    }
   ],
   "source": [
    "conv2d = nn.Conv2d(in_channels=1, out_channels=1, kernel_size=3, padding=1)\n",
    "\n",
    "X = torch.rand(8, 8)\n",
    "comp_conv2d(conv2d, X).shape"
   ]
  },
  {
   "cell_type": "code",
   "execution_count": 11,
   "id": "a3af3821",
   "metadata": {
    "ExecuteTime": {
     "end_time": "2021-12-04T13:45:25.940751Z",
     "start_time": "2021-12-04T13:45:25.925750Z"
    }
   },
   "outputs": [
    {
     "data": {
      "text/plain": [
       "torch.Size([8, 8])"
      ]
     },
     "execution_count": 11,
     "metadata": {},
     "output_type": "execute_result"
    }
   ],
   "source": [
    "# 使用高为5、宽为3的卷积核。在高和宽两侧的填充数分别为2和1\n",
    "kernel_r = 5\n",
    "kernel_c=\n",
    "conv2d = nn.Conv2d(in_channels=1, out_channels=1, kernel_size=(5, 3), padding=(2, 1))\n",
    "comp_conv2d(conv2d, X).shape\n"
   ]
  },
  {
   "cell_type": "markdown",
   "id": "e92c7d3d",
   "metadata": {},
   "source": [
    "## 步幅"
   ]
  },
  {
   "cell_type": "code",
   "execution_count": 12,
   "id": "a4fe96be",
   "metadata": {
    "ExecuteTime": {
     "end_time": "2021-12-04T13:51:19.142915Z",
     "start_time": "2021-12-04T13:51:19.133950Z"
    }
   },
   "outputs": [
    {
     "data": {
      "text/plain": [
       "torch.Size([4, 4])"
      ]
     },
     "execution_count": 12,
     "metadata": {},
     "output_type": "execute_result"
    }
   ],
   "source": [
    "conv2d = nn.Conv2d(1, 1, kernel_size=3, padding=1, stride=2)\n",
    "comp_conv2d(conv2d, X).shape"
   ]
  },
  {
   "cell_type": "markdown",
   "id": "219aa7c5",
   "metadata": {},
   "source": [
    "## 多输入通道和多输出通道"
   ]
  },
  {
   "cell_type": "markdown",
   "id": "7a157d9b",
   "metadata": {},
   "source": [
    "### 多输入通道"
   ]
  },
  {
   "cell_type": "code",
   "execution_count": 31,
   "id": "7704bd2b",
   "metadata": {
    "ExecuteTime": {
     "end_time": "2021-12-05T01:08:07.601328Z",
     "start_time": "2021-12-05T01:08:07.589068Z"
    }
   },
   "outputs": [],
   "source": [
    "#多核卷积\n",
    "def corr2d_multi_in(X, K):\n",
    "    # 沿着X和K的第0维（通道维）分别计算再相加\n",
    "    res = corr2d(X[0, :, :], K[0, :, :])\n",
    "    for i in range(1, X.shape[0]):\n",
    "        res += corr2d(X[i, :, :], K[i, :, :])\n",
    "    return res"
   ]
  },
  {
   "cell_type": "code",
   "execution_count": 37,
   "id": "8efd52fa",
   "metadata": {
    "ExecuteTime": {
     "end_time": "2021-12-05T01:15:42.328205Z",
     "start_time": "2021-12-05T01:15:42.311671Z"
    }
   },
   "outputs": [
    {
     "data": {
      "text/plain": [
       "tensor([[ 56.,  72.],\n",
       "        [104., 120.]])"
      ]
     },
     "execution_count": 37,
     "metadata": {},
     "output_type": "execute_result"
    }
   ],
   "source": [
    "X = torch.tensor([[[0, 1, 2], [3, 4, 5], [6, 7, 8]],\n",
    "              [[1, 2, 3], [4, 5, 6], [7, 8, 9]]])\n",
    "K = torch.tensor([[[0, 1], [2, 3]], [[1, 2], [3, 4]]])\n",
    "\n",
    "corr2d_multi_in(X, K)"
   ]
  },
  {
   "cell_type": "markdown",
   "id": "814b618c",
   "metadata": {},
   "source": [
    "### 多输出通道"
   ]
  },
  {
   "cell_type": "code",
   "execution_count": 38,
   "id": "d7db52e6",
   "metadata": {
    "ExecuteTime": {
     "end_time": "2021-12-05T01:15:43.316474Z",
     "start_time": "2021-12-05T01:15:43.299045Z"
    }
   },
   "outputs": [],
   "source": [
    "def corr2d_multi_in_out(X, K):\n",
    "    # 对K的第0维遍历，每次同输入X做互相关计算。所有结果使用stack函数合并在一起\n",
    "    return torch.stack([corr2d_multi_in(X, k) for k in K])"
   ]
  },
  {
   "cell_type": "code",
   "execution_count": 39,
   "id": "99b04d5b",
   "metadata": {
    "ExecuteTime": {
     "end_time": "2021-12-05T01:15:43.949142Z",
     "start_time": "2021-12-05T01:15:43.939800Z"
    }
   },
   "outputs": [
    {
     "data": {
      "text/plain": [
       "(torch.Size([2, 3, 3]), torch.Size([3, 2, 2, 2]))"
      ]
     },
     "execution_count": 39,
     "metadata": {},
     "output_type": "execute_result"
    }
   ],
   "source": [
    "#核数组K同K+1（K中每个元素加一）和K+2连结在一起来构造一个输出通道数为3的卷积核。\n",
    "K = torch.stack([K, K + 1, K + 2])\n",
    "X.shape,K.shape"
   ]
  },
  {
   "cell_type": "code",
   "execution_count": 35,
   "id": "44598eaa",
   "metadata": {
    "ExecuteTime": {
     "end_time": "2021-12-05T01:15:19.211767Z",
     "start_time": "2021-12-05T01:15:19.186462Z"
    }
   },
   "outputs": [
    {
     "data": {
      "text/plain": [
       "tensor([[[ 56.,  72.],\n",
       "         [104., 120.]],\n",
       "\n",
       "        [[ 76., 100.],\n",
       "         [148., 172.]],\n",
       "\n",
       "        [[ 96., 128.],\n",
       "         [192., 224.]]])"
      ]
     },
     "execution_count": 35,
     "metadata": {},
     "output_type": "execute_result"
    }
   ],
   "source": [
    "corr2d_multi_in_out(X, K)"
   ]
  },
  {
   "cell_type": "markdown",
   "id": "d5a5c2ac",
   "metadata": {},
   "source": [
    "### 1x1卷积层"
   ]
  },
  {
   "cell_type": "code",
   "execution_count": 40,
   "id": "969ad529",
   "metadata": {
    "ExecuteTime": {
     "end_time": "2021-12-05T01:20:57.290679Z",
     "start_time": "2021-12-05T01:20:57.275523Z"
    }
   },
   "outputs": [],
   "source": [
    "def corr2d_multi_in_out_1x1(X, K):\n",
    "    c_i, h, w = X.shape\n",
    "    c_o = K.shape[0]\n",
    "    X = X.view(c_i, h * w)\n",
    "    K = K.view(c_o, c_i)\n",
    "    Y = torch.mm(K, X)  # 全连接层的矩阵乘法\n",
    "    return Y.view(c_o, h, w)\n"
   ]
  },
  {
   "cell_type": "code",
   "execution_count": 41,
   "id": "1845a081",
   "metadata": {
    "ExecuteTime": {
     "end_time": "2021-12-05T01:21:04.196616Z",
     "start_time": "2021-12-05T01:21:04.181916Z"
    }
   },
   "outputs": [
    {
     "data": {
      "text/plain": [
       "True"
      ]
     },
     "execution_count": 41,
     "metadata": {},
     "output_type": "execute_result"
    }
   ],
   "source": [
    "X = torch.rand(3, 3, 3)\n",
    "K = torch.rand(2, 3, 1, 1)\n",
    "\n",
    "Y1 = corr2d_multi_in_out_1x1(X, K)\n",
    "Y2 = corr2d_multi_in_out(X, K)\n",
    "\n",
    "(Y1 - Y2).norm().item() < 1e-6"
   ]
  },
  {
   "cell_type": "markdown",
   "id": "f83aa975",
   "metadata": {},
   "source": [
    "## 池化层\n",
    "它的提出是为了缓解卷积层对位置的过度敏感性"
   ]
  },
  {
   "cell_type": "markdown",
   "id": "360630f1",
   "metadata": {},
   "source": [
    "### 二维最大池化层和平均池化层"
   ]
  },
  {
   "cell_type": "code",
   "execution_count": 48,
   "id": "a41c0316",
   "metadata": {
    "ExecuteTime": {
     "end_time": "2021-12-05T01:52:52.714428Z",
     "start_time": "2021-12-05T01:52:52.699864Z"
    }
   },
   "outputs": [],
   "source": [
    "def pool2d(X, pool_size, mode='max'):\n",
    "    X = X.float()\n",
    "    p_h,p_w = pool_size\n",
    "    Y = torch.zeros(X.shape[0]-p_h+1, X.shape[1]-p_w+1)\n",
    "    for i in range(Y.shape[0]):\n",
    "        for j in range(Y.shape[1]):\n",
    "            if mode == 'max':\n",
    "                Y[i,j] = X[i:i+p_h, j:j+p_w].max()\n",
    "            elif mode == 'avg':\n",
    "                Y[i,j] = X[i:i+p_h, j:j+p_w].mean()\n",
    "    return Y"
   ]
  },
  {
   "cell_type": "code",
   "execution_count": 49,
   "id": "2050e20c",
   "metadata": {
    "ExecuteTime": {
     "end_time": "2021-12-05T01:52:53.400653Z",
     "start_time": "2021-12-05T01:52:53.373845Z"
    }
   },
   "outputs": [
    {
     "data": {
      "text/plain": [
       "tensor([[4., 5.],\n",
       "        [7., 8.]])"
      ]
     },
     "execution_count": 49,
     "metadata": {},
     "output_type": "execute_result"
    }
   ],
   "source": [
    "X = torch.tensor([[0, 1, 2], [3, 4, 5], [6, 7, 8]])\n",
    "pool2d(X, (2, 2))"
   ]
  },
  {
   "cell_type": "code",
   "execution_count": 50,
   "id": "b8b67583",
   "metadata": {
    "ExecuteTime": {
     "end_time": "2021-12-05T01:53:07.871000Z",
     "start_time": "2021-12-05T01:53:07.849478Z"
    }
   },
   "outputs": [
    {
     "data": {
      "text/plain": [
       "tensor([[2., 3.],\n",
       "        [5., 6.]])"
      ]
     },
     "execution_count": 50,
     "metadata": {},
     "output_type": "execute_result"
    }
   ],
   "source": [
    "pool2d(X, (2, 2), 'avg')"
   ]
  },
  {
   "cell_type": "markdown",
   "id": "561fd4eb",
   "metadata": {},
   "source": [
    "### 填充和步幅\n",
    "同卷积层一样，池化层也可以在输入的高和宽两侧的填充并调整窗口的移动步幅来改变输出形状。池化层填充和步幅与卷积层填充和步幅的工作机制一样。我们将通过nn模块里的二维最大池化层MaxPool2d来演示池化层填充和步幅的工作机制。我们先构造一个形状为(1, 1, 4, 4)的输入数据，前两个维度分别是批量和通道。"
   ]
  },
  {
   "cell_type": "code",
   "execution_count": 51,
   "id": "46003c08",
   "metadata": {
    "ExecuteTime": {
     "end_time": "2021-12-05T01:55:06.505383Z",
     "start_time": "2021-12-05T01:55:06.490910Z"
    }
   },
   "outputs": [
    {
     "data": {
      "text/plain": [
       "tensor([[[[ 0.,  1.,  2.,  3.],\n",
       "          [ 4.,  5.,  6.,  7.],\n",
       "          [ 8.,  9., 10., 11.],\n",
       "          [12., 13., 14., 15.]]]])"
      ]
     },
     "execution_count": 51,
     "metadata": {},
     "output_type": "execute_result"
    }
   ],
   "source": [
    "X = torch.arange(16, dtype=torch.float).view((1, 1, 4, 4))\n",
    "X"
   ]
  },
  {
   "cell_type": "code",
   "execution_count": 53,
   "id": "1641dac4",
   "metadata": {
    "ExecuteTime": {
     "end_time": "2021-12-05T01:57:00.538137Z",
     "start_time": "2021-12-05T01:57:00.522469Z"
    }
   },
   "outputs": [
    {
     "data": {
      "text/plain": [
       "tensor([[[[10.]]]])"
      ]
     },
     "execution_count": 53,
     "metadata": {},
     "output_type": "execute_result"
    }
   ],
   "source": [
    "#默认获得形状为(3, 3)的步幅。\n",
    "pool2d = nn.MaxPool2d(3)\n",
    "pool2d(X) "
   ]
  },
  {
   "cell_type": "code",
   "execution_count": 54,
   "id": "fdf7bb71",
   "metadata": {
    "ExecuteTime": {
     "end_time": "2021-12-05T01:57:16.743398Z",
     "start_time": "2021-12-05T01:57:16.729781Z"
    }
   },
   "outputs": [
    {
     "data": {
      "text/plain": [
       "tensor([[[[ 5.,  7.],\n",
       "          [13., 15.]]]])"
      ]
     },
     "execution_count": 54,
     "metadata": {},
     "output_type": "execute_result"
    }
   ],
   "source": [
    "pool2d = nn.MaxPool2d(3, padding=1, stride=2)\n",
    "pool2d(X)"
   ]
  },
  {
   "cell_type": "code",
   "execution_count": 55,
   "id": "a2fdf387",
   "metadata": {
    "ExecuteTime": {
     "end_time": "2021-12-05T02:00:49.326518Z",
     "start_time": "2021-12-05T02:00:49.310469Z"
    }
   },
   "outputs": [
    {
     "data": {
      "text/plain": [
       "tensor([[[[ 1.,  3.],\n",
       "          [ 9., 11.],\n",
       "          [13., 15.]]]])"
      ]
     },
     "execution_count": 55,
     "metadata": {},
     "output_type": "execute_result"
    }
   ],
   "source": [
    "#也可以指定非正方形的池化窗口，并分别指定高和宽上的填充和步幅\n",
    "pool2d = nn.MaxPool2d((2, 4), padding=(1, 2), stride=(2, 3))\n",
    "pool2d(X)"
   ]
  },
  {
   "cell_type": "code",
   "execution_count": 56,
   "id": "69799431",
   "metadata": {
    "ExecuteTime": {
     "end_time": "2021-12-05T02:01:25.242265Z",
     "start_time": "2021-12-05T02:01:25.219294Z"
    }
   },
   "outputs": [
    {
     "data": {
      "text/plain": [
       "tensor([[[[ 0.,  1.,  2.,  3.],\n",
       "          [ 4.,  5.,  6.,  7.],\n",
       "          [ 8.,  9., 10., 11.],\n",
       "          [12., 13., 14., 15.]],\n",
       "\n",
       "         [[ 1.,  2.,  3.,  4.],\n",
       "          [ 5.,  6.,  7.,  8.],\n",
       "          [ 9., 10., 11., 12.],\n",
       "          [13., 14., 15., 16.]]]])"
      ]
     },
     "execution_count": 56,
     "metadata": {},
     "output_type": "execute_result"
    }
   ],
   "source": [
    "#在处理多通道输入数据时，池化层对每个输入通道分别池化，而不是像卷积层那样将各通道的输入按通道相加\n",
    "X = torch.cat((X, X + 1), dim=1)\n",
    "X"
   ]
  },
  {
   "cell_type": "code",
   "execution_count": 57,
   "id": "8caa6eed",
   "metadata": {
    "ExecuteTime": {
     "end_time": "2021-12-05T02:16:07.214742Z",
     "start_time": "2021-12-05T02:16:07.188114Z"
    }
   },
   "outputs": [
    {
     "data": {
      "text/plain": [
       "tensor([[[[ 5.,  7.],\n",
       "          [13., 15.]],\n",
       "\n",
       "         [[ 6.,  8.],\n",
       "          [14., 16.]]]])"
      ]
     },
     "execution_count": 57,
     "metadata": {},
     "output_type": "execute_result"
    }
   ],
   "source": [
    "pool2d = nn.MaxPool2d(3, padding=1, stride=2)\n",
    "pool2d(X)"
   ]
  },
  {
   "cell_type": "markdown",
   "id": "741161e1",
   "metadata": {},
   "source": [
    "# 卷积神经网络(LeNet)"
   ]
  },
  {
   "cell_type": "code",
   "execution_count": null,
   "id": "f8713f14",
   "metadata": {},
   "outputs": [],
   "source": []
  }
 ],
 "metadata": {
  "kernelspec": {
   "display_name": "Python 3",
   "language": "python",
   "name": "python3"
  },
  "language_info": {
   "codemirror_mode": {
    "name": "ipython",
    "version": 3
   },
   "file_extension": ".py",
   "mimetype": "text/x-python",
   "name": "python",
   "nbconvert_exporter": "python",
   "pygments_lexer": "ipython3",
   "version": "3.6.13"
  },
  "latex_envs": {
   "LaTeX_envs_menu_present": true,
   "autoclose": true,
   "autocomplete": true,
   "bibliofile": "biblio.bib",
   "cite_by": "apalike",
   "current_citInitial": 1,
   "eqLabelWithNumbers": true,
   "eqNumInitial": 1,
   "hotkeys": {
    "equation": "Ctrl-E",
    "itemize": "Ctrl-I"
   },
   "labels_anchors": false,
   "latex_user_defs": false,
   "report_style_numbering": false,
   "user_envs_cfg": false
  },
  "toc": {
   "base_numbering": 1,
   "nav_menu": {},
   "number_sections": true,
   "sideBar": true,
   "skip_h1_title": false,
   "title_cell": "Table of Contents",
   "title_sidebar": "Contents",
   "toc_cell": false,
   "toc_position": {
    "height": "calc(100% - 180px)",
    "left": "10px",
    "top": "150px",
    "width": "165px"
   },
   "toc_section_display": true,
   "toc_window_display": true
  },
  "varInspector": {
   "cols": {
    "lenName": 16,
    "lenType": 16,
    "lenVar": 40
   },
   "kernels_config": {
    "python": {
     "delete_cmd_postfix": "",
     "delete_cmd_prefix": "del ",
     "library": "var_list.py",
     "varRefreshCmd": "print(var_dic_list())"
    },
    "r": {
     "delete_cmd_postfix": ") ",
     "delete_cmd_prefix": "rm(",
     "library": "var_list.r",
     "varRefreshCmd": "cat(var_dic_list()) "
    }
   },
   "oldHeight": 288.85436400000003,
   "position": {
    "height": "40px",
    "left": "663.998px",
    "right": "20px",
    "top": "168.996px",
    "width": "462.008px"
   },
   "types_to_exclude": [
    "module",
    "function",
    "builtin_function_or_method",
    "instance",
    "_Feature"
   ],
   "varInspector_section_display": "none",
   "window_display": true
  }
 },
 "nbformat": 4,
 "nbformat_minor": 5
}
